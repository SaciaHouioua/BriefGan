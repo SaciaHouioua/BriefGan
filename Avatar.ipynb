{
 "cells": [
  {
   "cell_type": "markdown",
   "id": "aging-preservation",
   "metadata": {},
   "source": [
    "####  data load\n",
    "https://storage.cloud.google.com/cartoonset_public_files/cartoonset10k.tgz\n",
    "\n",
    "#### \n",
    "https://github.com/dtrckd/simplon_datai_2020/blob/master/brief_10/brief.md\n",
    "\n",
    "\n"
   ]
  },
  {
   "cell_type": "markdown",
   "id": "noted-tourist",
   "metadata": {},
   "source": [
    "Schématiquement, le GAN se présente comme suit :\n",
    "    1. Un réseau generator fait correspondre des vecteurs de forme (latent_dim,) à des images de forme\n",
    "(32, 32, 3) .\n",
    "\n",
    "    2. Un réseau discriminator fait correspondre des images de forme (32, 32, 3) à un score binaire qui estime la probabilité que l'image soit réelle.\n",
    "estimant la probabilité que l'image soit réelle.\n",
    "\n",
    "    3.Un réseau gan enchaîne le generator et le discriminator :                    gan(x) = discriminator(générateur(x)) . \n",
    "Ainsi, ce réseau gan fait correspondre les vecteurs de l'espace latent_dim  à l'évaluation par le discriminator \n",
    "\n",
    "    4.Vous entraîne le discriminator à l'aide d'exemples d'images réelles et fausses avec desdes étiquettes\n",
    " \"vrai\"/\"faux\", comme on entraîne un modèle de classification d'images classique.\n",
    "    5. Pour entraîner le generator, on utilise les gradients des poids du générateur par rapport à la perte du modèle gan. Cela signifie, qu'à chaque étape, on déplace les les poids du générator dans une direction qui rend le discriminator plus susceptible de de classer comme \"réelles\" les images décodées par le générateur. En d'autres termes, on entraîne le générateur à tromper le discriminator.\n",
    "\n"
   ]
  },
  {
   "cell_type": "code",
   "execution_count": 1,
   "id": "driving-display",
   "metadata": {},
   "outputs": [],
   "source": [
    "import tensorflow as tf\n",
    "from tensorflow import keras\n",
    "from tensorflow.keras import layers\n",
    "import numpy as np\n",
    "import matplotlib.pyplot as plt\n",
    "import os"
   ]
  },
  {
   "cell_type": "code",
   "execution_count": 2,
   "id": "revolutionary-solid",
   "metadata": {},
   "outputs": [
    {
     "name": "stdout",
     "output_type": "stream",
     "text": [
      "/home/sacia/Documents/WorkSpace/BriefAvatar\r\n"
     ]
    }
   ],
   "source": [
    "!pwd\n"
   ]
  },
  {
   "cell_type": "code",
   "execution_count": 3,
   "id": "relevant-opera",
   "metadata": {},
   "outputs": [
    {
     "data": {
      "text/plain": [
       "130"
      ]
     },
     "execution_count": 3,
     "metadata": {},
     "output_type": "execute_result"
    }
   ],
   "source": [
    "#current_path = os.path.join(src, animal)\n",
    "path = \"./dataR/cartoonset50\"\n",
    "def nbr_file(path):\n",
    "  list_file=[] \n",
    "  for file in os.listdir(path):\n",
    "      list_file.append(file)\n",
    "  return len(list_file) \n",
    "nbr = nbr_file(path)\n",
    "nbr"
   ]
  },
  {
   "cell_type": "code",
   "execution_count": 2,
   "id": "robust-clearing",
   "metadata": {},
   "outputs": [
    {
     "name": "stdout",
     "output_type": "stream",
     "text": [
      "Found 130 files belonging to 1 classes.\n"
     ]
    }
   ],
   "source": [
    "# Test on 130 instead of 10 000 images\n",
    "dataset = keras.preprocessing.image_dataset_from_directory(\n",
    "    \"dataR\", label_mode=None, image_size=(32, 32), batch_size=32\n",
    ")\n",
    "dataset = dataset.map(lambda x: x / 255.0)\n"
   ]
  },
  {
   "cell_type": "code",
   "execution_count": 3,
   "id": "pending-scanner",
   "metadata": {},
   "outputs": [
    {
     "data": {
      "text/plain": [
       "tensorflow.python.data.ops.dataset_ops.MapDataset"
      ]
     },
     "execution_count": 3,
     "metadata": {},
     "output_type": "execute_result"
    }
   ],
   "source": [
    "type(dataset)"
   ]
  },
  {
   "cell_type": "code",
   "execution_count": 4,
   "id": "limiting-incentive",
   "metadata": {},
   "outputs": [
    {
     "data": {
      "image/png": "[encoded data removed]",
      "text/plain": [
       "<Figure size 432x288 with 1 Axes>"
      ]
     },
     "metadata": {
      "needs_background": "light"
     },
     "output_type": "display_data"
    }
   ],
   "source": [
    "for x in dataset:\n",
    "    plt.axis(\"off\")\n",
    "    plt.imshow((x.numpy() * 255).astype(\"int32\")[0])\n",
    "    break\n"
   ]
  },
  {
   "cell_type": "markdown",
   "id": "simplified-blues",
   "metadata": {},
   "source": [
    "### GAN generator network\n",
    "DeepLearning book F. Chollet"
   ]
  },
  {
   "cell_type": "code",
   "execution_count": 5,
   "id": "extra-playing",
   "metadata": {},
   "outputs": [
    {
     "name": "stdout",
     "output_type": "stream",
     "text": [
      "Model: \"model\"\n",
      "_________________________________________________________________\n",
      "Layer (type)                 Output Shape              Param #   \n",
      "=================================================================\n",
      "input_1 (InputLayer)         [(None, 32)]              0         \n",
      "_________________________________________________________________\n",
      "dense (Dense)                (None, 32768)             1081344   \n",
      "_________________________________________________________________\n",
      "leaky_re_lu (LeakyReLU)      (None, 32768)             0         \n",
      "_________________________________________________________________\n",
      "reshape (Reshape)            (None, 16, 16, 128)       0         \n",
      "_________________________________________________________________\n",
      "conv2d (Conv2D)              (None, 16, 16, 256)       819456    \n",
      "_________________________________________________________________\n",
      "leaky_re_lu_1 (LeakyReLU)    (None, 16, 16, 256)       0         \n",
      "_________________________________________________________________\n",
      "conv2d_transpose (Conv2DTran (None, 32, 32, 256)       1048832   \n",
      "_________________________________________________________________\n",
      "leaky_re_lu_2 (LeakyReLU)    (None, 32, 32, 256)       0         \n",
      "_________________________________________________________________\n",
      "conv2d_1 (Conv2D)            (None, 32, 32, 256)       1638656   \n",
      "_________________________________________________________________\n",
      "leaky_re_lu_3 (LeakyReLU)    (None, 32, 32, 256)       0         \n",
      "_________________________________________________________________\n",
      "conv2d_2 (Conv2D)            (None, 32, 32, 256)       1638656   \n",
      "_________________________________________________________________\n",
      "leaky_re_lu_4 (LeakyReLU)    (None, 32, 32, 256)       0         \n",
      "_________________________________________________________________\n",
      "conv2d_3 (Conv2D)            (None, 32, 32, 3)         37635     \n",
      "=================================================================\n",
      "Total params: 6,264,579\n",
      "Trainable params: 6,264,579\n",
      "Non-trainable params: 0\n",
      "_________________________________________________________________\n"
     ]
    }
   ],
   "source": [
    "import keras\n",
    "from keras import layers\n",
    "import numpy as np\n",
    "latent_dim = 32\n",
    "height = 32\n",
    "width = 32\n",
    "channels = 3\n",
    "\n",
    "\n",
    "generator_input = keras.Input(shape=(latent_dim,))\n",
    "\n",
    "#Transforms the input into a 16 × 16 128-channel feature map\n",
    "\n",
    "x = layers.Dense(128 * 16 * 16)(generator_input)\n",
    "x = layers.LeakyReLU()(x)\n",
    "x = layers.Reshape((16, 16, 128))(x)\n",
    "\n",
    "x = layers.Conv2D(256, 5, padding='same')(x)\n",
    "x = layers.LeakyReLU()(x)\n",
    "\n",
    "# Upsamples to 32 × 32\n",
    "x = layers.Conv2DTranspose(256, 4, strides=2, padding='same')(x)\n",
    "x = layers.LeakyReLU()(x)\n",
    "\n",
    "x = layers.Conv2D(256, 5, padding='same')(x)\n",
    "x = layers.LeakyReLU()(x)\n",
    "x = layers.Conv2D(256, 5, padding='same')(x)\n",
    "x = layers.LeakyReLU()(x)\n",
    "\n",
    "#Instantiates the generator model, which maps the input\n",
    "#of shape (latent_dim,) into an image of shape (32, 32, 3)\n",
    "# Produces a 32 × 32 1-channel featuremap (image)\n",
    "\n",
    "x = layers.Conv2D(channels, 7, activation='tanh', padding='same')(x)\n",
    "generator = keras.models.Model(generator_input, x)\n",
    "generator.summary()\n"
   ]
  },
  {
   "cell_type": "markdown",
   "id": "pharmaceutical-marijuana",
   "metadata": {},
   "source": [
    "#### The discriminator"
   ]
  },
  {
   "cell_type": "code",
   "execution_count": 6,
   "id": "eleven-metallic",
   "metadata": {},
   "outputs": [
    {
     "name": "stdout",
     "output_type": "stream",
     "text": [
      "Model: \"model_1\"\n",
      "_________________________________________________________________\n",
      "Layer (type)                 Output Shape              Param #   \n",
      "=================================================================\n",
      "input_2 (InputLayer)         [(None, 32, 32, 3)]       0         \n",
      "_________________________________________________________________\n",
      "conv2d_4 (Conv2D)            (None, 30, 30, 128)       3584      \n",
      "_________________________________________________________________\n",
      "leaky_re_lu_5 (LeakyReLU)    (None, 30, 30, 128)       0         \n",
      "_________________________________________________________________\n",
      "conv2d_5 (Conv2D)            (None, 14, 14, 128)       262272    \n",
      "_________________________________________________________________\n",
      "leaky_re_lu_6 (LeakyReLU)    (None, 14, 14, 128)       0         \n",
      "_________________________________________________________________\n",
      "conv2d_6 (Conv2D)            (None, 6, 6, 128)         262272    \n",
      "_________________________________________________________________\n",
      "leaky_re_lu_7 (LeakyReLU)    (None, 6, 6, 128)         0         \n",
      "_________________________________________________________________\n",
      "conv2d_7 (Conv2D)            (None, 2, 2, 128)         262272    \n",
      "_________________________________________________________________\n",
      "leaky_re_lu_8 (LeakyReLU)    (None, 2, 2, 128)         0         \n",
      "_________________________________________________________________\n",
      "flatten (Flatten)            (None, 512)               0         \n",
      "_________________________________________________________________\n",
      "dropout (Dropout)            (None, 512)               0         \n",
      "_________________________________________________________________\n",
      "dense_1 (Dense)              (None, 1)                 513       \n",
      "=================================================================\n",
      "Total params: 790,913\n",
      "Trainable params: 790,913\n",
      "Non-trainable params: 0\n",
      "_________________________________________________________________\n"
     ]
    }
   ],
   "source": [
    "discriminator_input = layers.Input(shape=(height, width, channels))\n",
    "\n",
    "x = layers.Conv2D(128, 3)(discriminator_input)\n",
    "x = layers.LeakyReLU()(x)\n",
    "\n",
    "x = layers.Conv2D(128, 4, strides=2)(x)\n",
    "x = layers.LeakyReLU()(x)\n",
    "\n",
    "x = layers.Conv2D(128, 4, strides=2)(x)\n",
    "x = layers.LeakyReLU()(x)\n",
    "\n",
    "x = layers.Conv2D(128, 4, strides=2)(x)\n",
    "x = layers.LeakyReLU()(x)\n",
    "\n",
    "x = layers.Flatten()(x)\n",
    "\n",
    "#One dropout layer: an important trick!\n",
    "x = layers.Dropout(0.4)(x)\n",
    "\n",
    "#Classification layer\n",
    "x = layers.Dense(1, activation='sigmoid')(x)\n",
    "\n",
    "#Instantiates the discriminator model, which turns a (32, 32, 3) input into a\n",
    "# binary classifi-cation decision (fake/real)\n",
    "\n",
    "discriminator = keras.models.Model(discriminator_input, x)\n",
    "discriminator.summary()\n"
   ]
  },
  {
   "cell_type": "code",
   "execution_count": 7,
   "id": "adapted-electricity",
   "metadata": {},
   "outputs": [],
   "source": [
    "\n",
    "\n",
    "discriminator_optimizer = keras.optimizers.RMSprop(\n",
    "    lr=0.0008,\n",
    "    clipvalue=1.0, # Uses gradient clipping (by value) in the optimizer\n",
    "    decay=1e-8)   # To stabilize training,uses learning-rate decay\n",
    "\n",
    "discriminator.compile(optimizer=discriminator_optimizer,\n",
    "loss='binary_crossentropy')"
   ]
  },
  {
   "cell_type": "markdown",
   "id": "eleven-mercy",
   "metadata": {},
   "source": [
    "#### Adversarial network"
   ]
  },
  {
   "cell_type": "code",
   "execution_count": 8,
   "id": "virtual-blend",
   "metadata": {},
   "outputs": [],
   "source": [
    "discriminator.trainable = False\n",
    "gan_input = keras.Input(shape=(latent_dim,))\n",
    "gan_output = discriminator(generator(gan_input))\n",
    "gan = keras.models.Model(gan_input, gan_output)"
   ]
  },
  {
   "cell_type": "code",
   "execution_count": 9,
   "id": "traditional-involvement",
   "metadata": {
    "scrolled": false
   },
   "outputs": [],
   "source": [
    "gan_optimizer = keras.optimizers.RMSprop(lr=0.0004, clipvalue=1.0, decay=1e-8)\n",
    "gan.compile(optimizer=gan_optimizer, loss='binary_crossentropy')\n"
   ]
  },
  {
   "cell_type": "markdown",
   "id": "roman-advocacy",
   "metadata": {},
   "source": [
    "### Implementing GAN training"
   ]
  },
  {
   "cell_type": "code",
   "execution_count": 10,
   "id": "prospective-transaction",
   "metadata": {},
   "outputs": [],
   "source": [
    "# Assemble labels discriminating real from fake images\n",
    "batch_size = 32\n",
    "labels = tf.concat([tf.ones((batch_size, 1)), tf.zeros((batch_size, 1))], axis=0)"
   ]
  },
  {
   "cell_type": "code",
   "execution_count": 11,
   "id": "important-question",
   "metadata": {},
   "outputs": [
    {
     "name": "stdout",
     "output_type": "stream",
     "text": [
      "(130, 32, 32, 3)\n"
     ]
    }
   ],
   "source": [
    "X_train = np.empty(shape=(0,height, width, 3))\n",
    "\n",
    "for elt in dataset.as_numpy_iterator():\n",
    "    X_train = np.concatenate((X_train, elt), axis=0)\n",
    "      \n",
    "\n",
    "print(X_train.shape)\n",
    "\n"
   ]
  },
  {
   "cell_type": "code",
   "execution_count": 12,
   "id": "greater-fusion",
   "metadata": {
    "scrolled": false
   },
   "outputs": [
    {
     "data": {
      "text/html": [
       "<div>\n",
       "<style scoped>\n",
       "    .dataframe tbody tr th:only-of-type {\n",
       "        vertical-align: middle;\n",
       "    }\n",
       "\n",
       "    .dataframe tbody tr th {\n",
       "        vertical-align: top;\n",
       "    }\n",
       "\n",
       "    .dataframe thead th {\n",
       "        text-align: right;\n",
       "    }\n",
       "</style>\n",
       "<table border=\"1\" class=\"dataframe\">\n",
       "  <thead>\n",
       "    <tr style=\"text-align: right;\">\n",
       "      <th></th>\n",
       "      <th>d_loss</th>\n",
       "      <th>a_loss</th>\n",
       "    </tr>\n",
       "  </thead>\n",
       "  <tbody>\n",
       "    <tr>\n",
       "      <th>0</th>\n",
       "      <td>0.709926</td>\n",
       "      <td>0.660781</td>\n",
       "    </tr>\n",
       "    <tr>\n",
       "      <th>1</th>\n",
       "      <td>0.545187</td>\n",
       "      <td>2.321208</td>\n",
       "    </tr>\n",
       "    <tr>\n",
       "      <th>2</th>\n",
       "      <td>0.414878</td>\n",
       "      <td>3.321201</td>\n",
       "    </tr>\n",
       "    <tr>\n",
       "      <th>3</th>\n",
       "      <td>0.513546</td>\n",
       "      <td>1.818035</td>\n",
       "    </tr>\n",
       "    <tr>\n",
       "      <th>4</th>\n",
       "      <td>0.616763</td>\n",
       "      <td>1.179654</td>\n",
       "    </tr>\n",
       "    <tr>\n",
       "      <th>5</th>\n",
       "      <td>1.009209</td>\n",
       "      <td>0.714385</td>\n",
       "    </tr>\n",
       "    <tr>\n",
       "      <th>6</th>\n",
       "      <td>0.691428</td>\n",
       "      <td>0.676908</td>\n",
       "    </tr>\n",
       "    <tr>\n",
       "      <th>7</th>\n",
       "      <td>0.579747</td>\n",
       "      <td>1.833555</td>\n",
       "    </tr>\n",
       "    <tr>\n",
       "      <th>8</th>\n",
       "      <td>0.512796</td>\n",
       "      <td>1.235897</td>\n",
       "    </tr>\n",
       "    <tr>\n",
       "      <th>9</th>\n",
       "      <td>0.539784</td>\n",
       "      <td>1.899748</td>\n",
       "    </tr>\n",
       "  </tbody>\n",
       "</table>\n",
       "</div>"
      ],
      "text/plain": [
       "     d_loss    a_loss\n",
       "0  0.709926  0.660781\n",
       "1  0.545187  2.321208\n",
       "2  0.414878  3.321201\n",
       "3  0.513546  1.818035\n",
       "4  0.616763  1.179654\n",
       "5  1.009209  0.714385\n",
       "6  0.691428  0.676908\n",
       "7  0.579747  1.833555\n",
       "8  0.512796  1.235897\n",
       "9  0.539784  1.899748"
      ]
     },
     "execution_count": 12,
     "metadata": {},
     "output_type": "execute_result"
    }
   ],
   "source": [
    "import os\n",
    "from keras.preprocessing import image\n",
    "import pandas as pd\n",
    "iterations = 500\n",
    "step_div = iterations / 10\n",
    "batch_size = 32\n",
    "save_dir = 'genereted_images'\n",
    "D_loss = []\n",
    "A_loss = []\n",
    "\n",
    "\n",
    "start = 0\n",
    "\n",
    "for step in range(iterations):\n",
    "    #Samples random points in the latent space\n",
    "    random_latent_vectors = np.random.normal(size=(batch_size,latent_dim))\n",
    "    \n",
    "    #Decodes them to fake images\n",
    "    generated_images = generator.predict(random_latent_vectors)\n",
    "    \n",
    "    # \n",
    "    stop = start + batch_size\n",
    "    real_images = X_train[start: stop]\n",
    "    # Combines them thereal_images\n",
    "    combined_images = np.concatenate([generated_images, real_images])\n",
    "    \n",
    "    # Assembles labels, discriminating real from fake images\n",
    "    labels = np.concatenate([np.ones((batch_size, 1)),np.zeros((batch_size, 1))])\n",
    "    \n",
    "    #Adds random noise to the labels—an important trick!\n",
    "    labels += 0.05 * np.random.random(labels.shape)\n",
    "    \n",
    "    #Trains thediscriminator\n",
    "    d_loss = discriminator.train_on_batch(combined_images, labels)\n",
    "    \n",
    "    #Samples random points in the latent space\n",
    "    random_latent_vectors = np.random.normal(size=(batch_size,latent_dim))\n",
    "    \n",
    "    # Assembles labels that say “these are all real images” (it’s a lie!)\n",
    "    misleading_targets = np.zeros((batch_size, 1))\n",
    "    \n",
    "    #Trains the generator (via the gan model, where the discriminator weights are frozen)\n",
    "    a_loss = gan.train_on_batch(random_latent_vectors,misleading_targets)\n",
    "    \n",
    "    \n",
    "    \n",
    "    start += batch_size\n",
    "    if start > len(X_train) - batch_size:\n",
    "        start = 0\n",
    "    \n",
    "    # Occasionally saves and plots (every 100 steps) Saves model weights\n",
    "    if step % step_div == 0:\n",
    "        gan.save_weights('gan.h5')\n",
    "        generator.save('myGenerator.h5')\n",
    "    \n",
    "        D_loss.append(d_loss)\n",
    "        A_loss.append(a_loss)\n",
    "        #print('discriminator loss:', d_loss)\n",
    "        #print('adversarial loss:', a_loss)\n",
    "\n",
    "        img = image.array_to_img(generated_images[0] * 255., scale=False)\n",
    "        img.save(os.path.join(save_dir,'generated_a' + str(step) + '.png'))\n",
    "\n",
    "\n",
    "        img = image.array_to_img(real_images[0] * 255., scale=False)\n",
    "        img.save(os.path.join(save_dir,'real_a' + str(step) + '.png'))\n",
    "        \n",
    "df_loss = pd.DataFrame({'d_loss': D_loss, 'a_loss' : A_loss})\n",
    "df_loss   "
   ]
  },
  {
   "cell_type": "code",
   "execution_count": 13,
   "id": "deadly-basic",
   "metadata": {},
   "outputs": [],
   "source": [
    "#model = model.load_weights(\"gan.h5\")\n",
    "\n",
    "model = gan.load_weights(\"gan.h5\")"
   ]
  },
  {
   "cell_type": "code",
   "execution_count": 14,
   "id": "extreme-bangkok",
   "metadata": {},
   "outputs": [
    {
     "data": {
      "text/plain": [
       "{'name': 'model_2',\n",
       " 'layers': [{'class_name': 'InputLayer',\n",
       "   'config': {'batch_input_shape': (None, 32),\n",
       "    'dtype': 'float32',\n",
       "    'sparse': False,\n",
       "    'ragged': False,\n",
       "    'name': 'input_3'},\n",
       "   'name': 'input_3',\n",
       "   'inbound_nodes': []},\n",
       "  {'class_name': 'Functional',\n",
       "   'config': {'name': 'model',\n",
       "    'layers': [{'class_name': 'InputLayer',\n",
       "      'config': {'batch_input_shape': (None, 32),\n",
       "       'dtype': 'float32',\n",
       "       'sparse': False,\n",
       "       'ragged': False,\n",
       "       'name': 'input_1'},\n",
       "      'name': 'input_1',\n",
       "      'inbound_nodes': []},\n",
       "     {'class_name': 'Dense',\n",
       "      'config': {'name': 'dense',\n",
       "       'trainable': True,\n",
       "       'dtype': 'float32',\n",
       "       'units': 32768,\n",
       "       'activation': 'linear',\n",
       "       'use_bias': True,\n",
       "       'kernel_initializer': {'class_name': 'GlorotUniform',\n",
       "        'config': {'seed': None}},\n",
       "       'bias_initializer': {'class_name': 'Zeros', 'config': {}},\n",
       "       'kernel_regularizer': None,\n",
       "       'bias_regularizer': None,\n",
       "       'activity_regularizer': None,\n",
       "       'kernel_constraint': None,\n",
       "       'bias_constraint': None},\n",
       "      'name': 'dense',\n",
       "      'inbound_nodes': [[['input_1', 0, 0, {}]]]},\n",
       "     {'class_name': 'LeakyReLU',\n",
       "      'config': {'name': 'leaky_re_lu',\n",
       "       'trainable': True,\n",
       "       'dtype': 'float32',\n",
       "       'alpha': 0.30000001192092896},\n",
       "      'name': 'leaky_re_lu',\n",
       "      'inbound_nodes': [[['dense', 0, 0, {}]]]},\n",
       "     {'class_name': 'Reshape',\n",
       "      'config': {'name': 'reshape',\n",
       "       'trainable': True,\n",
       "       'dtype': 'float32',\n",
       "       'target_shape': (16, 16, 128)},\n",
       "      'name': 'reshape',\n",
       "      'inbound_nodes': [[['leaky_re_lu', 0, 0, {}]]]},\n",
       "     {'class_name': 'Conv2D',\n",
       "      'config': {'name': 'conv2d',\n",
       "       'trainable': True,\n",
       "       'dtype': 'float32',\n",
       "       'filters': 256,\n",
       "       'kernel_size': (5, 5),\n",
       "       'strides': (1, 1),\n",
       "       'padding': 'same',\n",
       "       'data_format': 'channels_last',\n",
       "       'dilation_rate': (1, 1),\n",
       "       'groups': 1,\n",
       "       'activation': 'linear',\n",
       "       'use_bias': True,\n",
       "       'kernel_initializer': {'class_name': 'GlorotUniform',\n",
       "        'config': {'seed': None}},\n",
       "       'bias_initializer': {'class_name': 'Zeros', 'config': {}},\n",
       "       'kernel_regularizer': None,\n",
       "       'bias_regularizer': None,\n",
       "       'activity_regularizer': None,\n",
       "       'kernel_constraint': None,\n",
       "       'bias_constraint': None},\n",
       "      'name': 'conv2d',\n",
       "      'inbound_nodes': [[['reshape', 0, 0, {}]]]},\n",
       "     {'class_name': 'LeakyReLU',\n",
       "      'config': {'name': 'leaky_re_lu_1',\n",
       "       'trainable': True,\n",
       "       'dtype': 'float32',\n",
       "       'alpha': 0.30000001192092896},\n",
       "      'name': 'leaky_re_lu_1',\n",
       "      'inbound_nodes': [[['conv2d', 0, 0, {}]]]},\n",
       "     {'class_name': 'Conv2DTranspose',\n",
       "      'config': {'name': 'conv2d_transpose',\n",
       "       'trainable': True,\n",
       "       'dtype': 'float32',\n",
       "       'filters': 256,\n",
       "       'kernel_size': (4, 4),\n",
       "       'strides': (2, 2),\n",
       "       'padding': 'same',\n",
       "       'data_format': 'channels_last',\n",
       "       'dilation_rate': (1, 1),\n",
       "       'groups': 1,\n",
       "       'activation': 'linear',\n",
       "       'use_bias': True,\n",
       "       'kernel_initializer': {'class_name': 'GlorotUniform',\n",
       "        'config': {'seed': None}},\n",
       "       'bias_initializer': {'class_name': 'Zeros', 'config': {}},\n",
       "       'kernel_regularizer': None,\n",
       "       'bias_regularizer': None,\n",
       "       'activity_regularizer': None,\n",
       "       'kernel_constraint': None,\n",
       "       'bias_constraint': None,\n",
       "       'output_padding': None},\n",
       "      'name': 'conv2d_transpose',\n",
       "      'inbound_nodes': [[['leaky_re_lu_1', 0, 0, {}]]]},\n",
       "     {'class_name': 'LeakyReLU',\n",
       "      'config': {'name': 'leaky_re_lu_2',\n",
       "       'trainable': True,\n",
       "       'dtype': 'float32',\n",
       "       'alpha': 0.30000001192092896},\n",
       "      'name': 'leaky_re_lu_2',\n",
       "      'inbound_nodes': [[['conv2d_transpose', 0, 0, {}]]]},\n",
       "     {'class_name': 'Conv2D',\n",
       "      'config': {'name': 'conv2d_1',\n",
       "       'trainable': True,\n",
       "       'dtype': 'float32',\n",
       "       'filters': 256,\n",
       "       'kernel_size': (5, 5),\n",
       "       'strides': (1, 1),\n",
       "       'padding': 'same',\n",
       "       'data_format': 'channels_last',\n",
       "       'dilation_rate': (1, 1),\n",
       "       'groups': 1,\n",
       "       'activation': 'linear',\n",
       "       'use_bias': True,\n",
       "       'kernel_initializer': {'class_name': 'GlorotUniform',\n",
       "        'config': {'seed': None}},\n",
       "       'bias_initializer': {'class_name': 'Zeros', 'config': {}},\n",
       "       'kernel_regularizer': None,\n",
       "       'bias_regularizer': None,\n",
       "       'activity_regularizer': None,\n",
       "       'kernel_constraint': None,\n",
       "       'bias_constraint': None},\n",
       "      'name': 'conv2d_1',\n",
       "      'inbound_nodes': [[['leaky_re_lu_2', 0, 0, {}]]]},\n",
       "     {'class_name': 'LeakyReLU',\n",
       "      'config': {'name': 'leaky_re_lu_3',\n",
       "       'trainable': True,\n",
       "       'dtype': 'float32',\n",
       "       'alpha': 0.30000001192092896},\n",
       "      'name': 'leaky_re_lu_3',\n",
       "      'inbound_nodes': [[['conv2d_1', 0, 0, {}]]]},\n",
       "     {'class_name': 'Conv2D',\n",
       "      'config': {'name': 'conv2d_2',\n",
       "       'trainable': True,\n",
       "       'dtype': 'float32',\n",
       "       'filters': 256,\n",
       "       'kernel_size': (5, 5),\n",
       "       'strides': (1, 1),\n",
       "       'padding': 'same',\n",
       "       'data_format': 'channels_last',\n",
       "       'dilation_rate': (1, 1),\n",
       "       'groups': 1,\n",
       "       'activation': 'linear',\n",
       "       'use_bias': True,\n",
       "       'kernel_initializer': {'class_name': 'GlorotUniform',\n",
       "        'config': {'seed': None}},\n",
       "       'bias_initializer': {'class_name': 'Zeros', 'config': {}},\n",
       "       'kernel_regularizer': None,\n",
       "       'bias_regularizer': None,\n",
       "       'activity_regularizer': None,\n",
       "       'kernel_constraint': None,\n",
       "       'bias_constraint': None},\n",
       "      'name': 'conv2d_2',\n",
       "      'inbound_nodes': [[['leaky_re_lu_3', 0, 0, {}]]]},\n",
       "     {'class_name': 'LeakyReLU',\n",
       "      'config': {'name': 'leaky_re_lu_4',\n",
       "       'trainable': True,\n",
       "       'dtype': 'float32',\n",
       "       'alpha': 0.30000001192092896},\n",
       "      'name': 'leaky_re_lu_4',\n",
       "      'inbound_nodes': [[['conv2d_2', 0, 0, {}]]]},\n",
       "     {'class_name': 'Conv2D',\n",
       "      'config': {'name': 'conv2d_3',\n",
       "       'trainable': True,\n",
       "       'dtype': 'float32',\n",
       "       'filters': 3,\n",
       "       'kernel_size': (7, 7),\n",
       "       'strides': (1, 1),\n",
       "       'padding': 'same',\n",
       "       'data_format': 'channels_last',\n",
       "       'dilation_rate': (1, 1),\n",
       "       'groups': 1,\n",
       "       'activation': 'tanh',\n",
       "       'use_bias': True,\n",
       "       'kernel_initializer': {'class_name': 'GlorotUniform',\n",
       "        'config': {'seed': None}},\n",
       "       'bias_initializer': {'class_name': 'Zeros', 'config': {}},\n",
       "       'kernel_regularizer': None,\n",
       "       'bias_regularizer': None,\n",
       "       'activity_regularizer': None,\n",
       "       'kernel_constraint': None,\n",
       "       'bias_constraint': None},\n",
       "      'name': 'conv2d_3',\n",
       "      'inbound_nodes': [[['leaky_re_lu_4', 0, 0, {}]]]}],\n",
       "    'input_layers': [['input_1', 0, 0]],\n",
       "    'output_layers': [['conv2d_3', 0, 0]]},\n",
       "   'name': 'model',\n",
       "   'inbound_nodes': [[['input_3', 0, 0, {}]]]},\n",
       "  {'class_name': 'Functional',\n",
       "   'config': {'name': 'model_1',\n",
       "    'layers': [{'class_name': 'InputLayer',\n",
       "      'config': {'batch_input_shape': (None, 32, 32, 3),\n",
       "       'dtype': 'float32',\n",
       "       'sparse': False,\n",
       "       'ragged': False,\n",
       "       'name': 'input_2'},\n",
       "      'name': 'input_2',\n",
       "      'inbound_nodes': []},\n",
       "     {'class_name': 'Conv2D',\n",
       "      'config': {'name': 'conv2d_4',\n",
       "       'trainable': False,\n",
       "       'dtype': 'float32',\n",
       "       'filters': 128,\n",
       "       'kernel_size': (3, 3),\n",
       "       'strides': (1, 1),\n",
       "       'padding': 'valid',\n",
       "       'data_format': 'channels_last',\n",
       "       'dilation_rate': (1, 1),\n",
       "       'groups': 1,\n",
       "       'activation': 'linear',\n",
       "       'use_bias': True,\n",
       "       'kernel_initializer': {'class_name': 'GlorotUniform',\n",
       "        'config': {'seed': None}},\n",
       "       'bias_initializer': {'class_name': 'Zeros', 'config': {}},\n",
       "       'kernel_regularizer': None,\n",
       "       'bias_regularizer': None,\n",
       "       'activity_regularizer': None,\n",
       "       'kernel_constraint': None,\n",
       "       'bias_constraint': None},\n",
       "      'name': 'conv2d_4',\n",
       "      'inbound_nodes': [[['input_2', 0, 0, {}]]]},\n",
       "     {'class_name': 'LeakyReLU',\n",
       "      'config': {'name': 'leaky_re_lu_5',\n",
       "       'trainable': False,\n",
       "       'dtype': 'float32',\n",
       "       'alpha': 0.30000001192092896},\n",
       "      'name': 'leaky_re_lu_5',\n",
       "      'inbound_nodes': [[['conv2d_4', 0, 0, {}]]]},\n",
       "     {'class_name': 'Conv2D',\n",
       "      'config': {'name': 'conv2d_5',\n",
       "       'trainable': False,\n",
       "       'dtype': 'float32',\n",
       "       'filters': 128,\n",
       "       'kernel_size': (4, 4),\n",
       "       'strides': (2, 2),\n",
       "       'padding': 'valid',\n",
       "       'data_format': 'channels_last',\n",
       "       'dilation_rate': (1, 1),\n",
       "       'groups': 1,\n",
       "       'activation': 'linear',\n",
       "       'use_bias': True,\n",
       "       'kernel_initializer': {'class_name': 'GlorotUniform',\n",
       "        'config': {'seed': None}},\n",
       "       'bias_initializer': {'class_name': 'Zeros', 'config': {}},\n",
       "       'kernel_regularizer': None,\n",
       "       'bias_regularizer': None,\n",
       "       'activity_regularizer': None,\n",
       "       'kernel_constraint': None,\n",
       "       'bias_constraint': None},\n",
       "      'name': 'conv2d_5',\n",
       "      'inbound_nodes': [[['leaky_re_lu_5', 0, 0, {}]]]},\n",
       "     {'class_name': 'LeakyReLU',\n",
       "      'config': {'name': 'leaky_re_lu_6',\n",
       "       'trainable': False,\n",
       "       'dtype': 'float32',\n",
       "       'alpha': 0.30000001192092896},\n",
       "      'name': 'leaky_re_lu_6',\n",
       "      'inbound_nodes': [[['conv2d_5', 0, 0, {}]]]},\n",
       "     {'class_name': 'Conv2D',\n",
       "      'config': {'name': 'conv2d_6',\n",
       "       'trainable': False,\n",
       "       'dtype': 'float32',\n",
       "       'filters': 128,\n",
       "       'kernel_size': (4, 4),\n",
       "       'strides': (2, 2),\n",
       "       'padding': 'valid',\n",
       "       'data_format': 'channels_last',\n",
       "       'dilation_rate': (1, 1),\n",
       "       'groups': 1,\n",
       "       'activation': 'linear',\n",
       "       'use_bias': True,\n",
       "       'kernel_initializer': {'class_name': 'GlorotUniform',\n",
       "        'config': {'seed': None}},\n",
       "       'bias_initializer': {'class_name': 'Zeros', 'config': {}},\n",
       "       'kernel_regularizer': None,\n",
       "       'bias_regularizer': None,\n",
       "       'activity_regularizer': None,\n",
       "       'kernel_constraint': None,\n",
       "       'bias_constraint': None},\n",
       "      'name': 'conv2d_6',\n",
       "      'inbound_nodes': [[['leaky_re_lu_6', 0, 0, {}]]]},\n",
       "     {'class_name': 'LeakyReLU',\n",
       "      'config': {'name': 'leaky_re_lu_7',\n",
       "       'trainable': False,\n",
       "       'dtype': 'float32',\n",
       "       'alpha': 0.30000001192092896},\n",
       "      'name': 'leaky_re_lu_7',\n",
       "      'inbound_nodes': [[['conv2d_6', 0, 0, {}]]]},\n",
       "     {'class_name': 'Conv2D',\n",
       "      'config': {'name': 'conv2d_7',\n",
       "       'trainable': False,\n",
       "       'dtype': 'float32',\n",
       "       'filters': 128,\n",
       "       'kernel_size': (4, 4),\n",
       "       'strides': (2, 2),\n",
       "       'padding': 'valid',\n",
       "       'data_format': 'channels_last',\n",
       "       'dilation_rate': (1, 1),\n",
       "       'groups': 1,\n",
       "       'activation': 'linear',\n",
       "       'use_bias': True,\n",
       "       'kernel_initializer': {'class_name': 'GlorotUniform',\n",
       "        'config': {'seed': None}},\n",
       "       'bias_initializer': {'class_name': 'Zeros', 'config': {}},\n",
       "       'kernel_regularizer': None,\n",
       "       'bias_regularizer': None,\n",
       "       'activity_regularizer': None,\n",
       "       'kernel_constraint': None,\n",
       "       'bias_constraint': None},\n",
       "      'name': 'conv2d_7',\n",
       "      'inbound_nodes': [[['leaky_re_lu_7', 0, 0, {}]]]},\n",
       "     {'class_name': 'LeakyReLU',\n",
       "      'config': {'name': 'leaky_re_lu_8',\n",
       "       'trainable': False,\n",
       "       'dtype': 'float32',\n",
       "       'alpha': 0.30000001192092896},\n",
       "      'name': 'leaky_re_lu_8',\n",
       "      'inbound_nodes': [[['conv2d_7', 0, 0, {}]]]},\n",
       "     {'class_name': 'Flatten',\n",
       "      'config': {'name': 'flatten',\n",
       "       'trainable': False,\n",
       "       'dtype': 'float32',\n",
       "       'data_format': 'channels_last'},\n",
       "      'name': 'flatten',\n",
       "      'inbound_nodes': [[['leaky_re_lu_8', 0, 0, {}]]]},\n",
       "     {'class_name': 'Dropout',\n",
       "      'config': {'name': 'dropout',\n",
       "       'trainable': False,\n",
       "       'dtype': 'float32',\n",
       "       'rate': 0.4,\n",
       "       'noise_shape': None,\n",
       "       'seed': None},\n",
       "      'name': 'dropout',\n",
       "      'inbound_nodes': [[['flatten', 0, 0, {}]]]},\n",
       "     {'class_name': 'Dense',\n",
       "      'config': {'name': 'dense_1',\n",
       "       'trainable': False,\n",
       "       'dtype': 'float32',\n",
       "       'units': 1,\n",
       "       'activation': 'sigmoid',\n",
       "       'use_bias': True,\n",
       "       'kernel_initializer': {'class_name': 'GlorotUniform',\n",
       "        'config': {'seed': None}},\n",
       "       'bias_initializer': {'class_name': 'Zeros', 'config': {}},\n",
       "       'kernel_regularizer': None,\n",
       "       'bias_regularizer': None,\n",
       "       'activity_regularizer': None,\n",
       "       'kernel_constraint': None,\n",
       "       'bias_constraint': None},\n",
       "      'name': 'dense_1',\n",
       "      'inbound_nodes': [[['dropout', 0, 0, {}]]]}],\n",
       "    'input_layers': [['input_2', 0, 0]],\n",
       "    'output_layers': [['dense_1', 0, 0]]},\n",
       "   'name': 'model_1',\n",
       "   'inbound_nodes': [[['model', 1, 0, {}]]]}],\n",
       " 'input_layers': [['input_3', 0, 0]],\n",
       " 'output_layers': [['model_1', 1, 0]]}"
      ]
     },
     "execution_count": 14,
     "metadata": {},
     "output_type": "execute_result"
    }
   ],
   "source": [
    "config = gan.get_config()\n",
    "config"
   ]
  },
  {
   "cell_type": "markdown",
   "id": "musical-fortune",
   "metadata": {},
   "source": [
    "### load model generator"
   ]
  },
  {
   "cell_type": "code",
   "execution_count": 68,
   "id": "russian-glance",
   "metadata": {
    "scrolled": true
   },
   "outputs": [
    {
     "name": "stdout",
     "output_type": "stream",
     "text": [
      "WARNING:tensorflow:No training configuration found in the save file, so the model was *not* compiled. Compile it manually.\n"
     ]
    }
   ],
   "source": [
    "\n",
    "generator = keras.models.load_model(\"generator.h5\")"
   ]
  },
  {
   "cell_type": "code",
   "execution_count": 69,
   "id": "cellular-museum",
   "metadata": {},
   "outputs": [
    {
     "data": {
      "text/plain": [
       "<tensorflow.python.keras.engine.sequential.Sequential at 0x7fc6e85659d0>"
      ]
     },
     "execution_count": 69,
     "metadata": {},
     "output_type": "execute_result"
    }
   ],
   "source": [
    "generator"
   ]
  },
  {
   "cell_type": "code",
   "execution_count": 71,
   "id": "mysterious-petite",
   "metadata": {},
   "outputs": [
    {
     "name": "stdout",
     "output_type": "stream",
     "text": [
      "WARNING:tensorflow:11 out of the last 11 calls to <function Model.make_predict_function.<locals>.predict_function at 0x7fc6e83be040> triggered tf.function retracing. Tracing is expensive and the excessive number of tracings could be due to (1) creating @tf.function repeatedly in a loop, (2) passing tensors with different shapes, (3) passing Python objects instead of tensors. For (1), please define your @tf.function outside of the loop. For (2), @tf.function has experimental_relax_shapes=True option that relaxes argument shapes that can avoid unnecessary retracing. For (3), please refer to https://www.tensorflow.org/guide/function#controlling_retracing and https://www.tensorflow.org/api_docs/python/tf/function for  more details.\n"
     ]
    }
   ],
   "source": [
    "\n",
    "#import tensorflow as tf\n",
    "#from tensorflow import keras\n",
    "\n",
    "\n",
    "generator.compile()\n",
    "batch_size = 1\n",
    "latent_dim = 128\n",
    "image_random = np.random.normal(size=(batch_size,latent_dim))\n",
    "image_genereted = generator.predict(image_random)\n",
    "    "
   ]
  },
  {
   "cell_type": "code",
   "execution_count": 72,
   "id": "narrative-belief",
   "metadata": {},
   "outputs": [
    {
     "data": {
      "text/plain": [
       "(1, 128, 128, 3)"
      ]
     },
     "execution_count": 72,
     "metadata": {},
     "output_type": "execute_result"
    }
   ],
   "source": [
    "image_genereted = generator.predict(image_random)\n",
    "image_genereted.shape"
   ]
  },
  {
   "cell_type": "code",
   "execution_count": 37,
   "id": "joint-bibliography",
   "metadata": {},
   "outputs": [
    {
     "data": {
      "text/plain": [
       "numpy.ndarray"
      ]
     },
     "execution_count": 37,
     "metadata": {},
     "output_type": "execute_result"
    }
   ],
   "source": [
    "type(image_genereted)"
   ]
  },
  {
   "cell_type": "code",
   "execution_count": 73,
   "id": "adequate-request",
   "metadata": {},
   "outputs": [
    {
     "name": "stderr",
     "output_type": "stream",
     "text": [
      "Clipping input data to the valid range for imshow with RGB data ([0..1] for floats or [0..255] for integers).\n"
     ]
    },
    {
     "data": {
      "text/plain": [
       "<matplotlib.image.AxesImage at 0x7fc6e82f0400>"
      ]
     },
     "execution_count": 73,
     "metadata": {},
     "output_type": "execute_result"
    },
    {
     "data": {
      "image/png": "[encoded data removed]",
      "text/plain": [
       "<Figure size 432x288 with 1 Axes>"
      ]
     },
     "metadata": {
      "needs_background": "light"
     },
     "output_type": "display_data"
    }
   ],
   "source": [
    "\n",
    "plt.axis(\"off\")\n",
    "plt.imshow((image_genereted * 255).astype(\"int32\")[0])\n",
    "    \n"
   ]
  },
  {
   "cell_type": "code",
   "execution_count": 74,
   "id": "scenic-buffalo",
   "metadata": {},
   "outputs": [],
   "source": [
    "#Genereted 12 images\n",
    "\n",
    "batch_size = 1\n",
    "latent_dim = 128\n",
    "images_genereted = generator.predict(image_random)"
   ]
  },
  {
   "cell_type": "code",
   "execution_count": 36,
   "id": "educational-miami",
   "metadata": {},
   "outputs": [],
   "source": [
    "# fonction dash\n",
    "\n",
    "import plotly.graph_objs as go\n",
    "\n",
    "def image_Genereted(n):\n",
    "    generator.compile()\n",
    "    batch_size = n\n",
    "    latent_dim = 128\n",
    "    image_random = np.random.normal(size=(batch_size,latent_dim))\n",
    "    image_genereted = generator.predict(image_random)\n",
    "    return image_genereted\n",
    "\n",
    " "
   ]
  },
  {
   "cell_type": "code",
   "execution_count": 63,
   "id": "about-institution",
   "metadata": {},
   "outputs": [
    {
     "name": "stdout",
     "output_type": "stream",
     "text": [
      "WARNING:tensorflow:11 out of the last 11 calls to <function Model.make_predict_function.<locals>.predict_function at 0x7fc6e83ef670> triggered tf.function retracing. Tracing is expensive and the excessive number of tracings could be due to (1) creating @tf.function repeatedly in a loop, (2) passing tensors with different shapes, (3) passing Python objects instead of tensors. For (1), please define your @tf.function outside of the loop. For (2), @tf.function has experimental_relax_shapes=True option that relaxes argument shapes that can avoid unnecessary retracing. For (3), please refer to https://www.tensorflow.org/guide/function#controlling_retracing and https://www.tensorflow.org/api_docs/python/tf/function for  more details.\n"
     ]
    },
    {
     "data": {
      "application/vnd.plotly.v1+json": {
       "config": {
        "plotlyServerURL": "https://plot.ly"
       },
       "data": [
        {
         "hovertemplate": "x: %{x}<br>y: %{y}<br>color: [%{z[0]}, %{z[1]}, %{z[2]}]<extra></extra>",
         "name": "0",
         "source": "data:image/png;base64,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",
         "type": "image",
         "xaxis": "x",
         "yaxis": "y"
        }
       ],
       "layout": {
        "margin": {
         "t": 60
        },
        "template": {
         "data": {
          "bar": [
           {
            "error_x": {
             "color": "#2a3f5f"
            },
            "error_y": {
             "color": "#2a3f5f"
            },
            "marker": {
             "line": {
              "color": "#E5ECF6",
              "width": 0.5
             }
            },
            "type": "bar"
           }
          ],
          "barpolar": [
           {
            "marker": {
             "line": {
              "color": "#E5ECF6",
              "width": 0.5
             }
            },
            "type": "barpolar"
           }
          ],
          "carpet": [
           {
            "aaxis": {
             "endlinecolor": "#2a3f5f",
             "gridcolor": "white",
             "linecolor": "white",
             "minorgridcolor": "white",
             "startlinecolor": "#2a3f5f"
            },
            "baxis": {
             "endlinecolor": "#2a3f5f",
             "gridcolor": "white",
             "linecolor": "white",
             "minorgridcolor": "white",
             "startlinecolor": "#2a3f5f"
            },
            "type": "carpet"
           }
          ],
          "choropleth": [
           {
            "colorbar": {
             "outlinewidth": 0,
             "ticks": ""
            },
            "type": "choropleth"
           }
          ],
          "contour": [
           {
            "colorbar": {
             "outlinewidth": 0,
             "ticks": ""
            },
            "colorscale": [
             [
              0,
              "#0d0887"
             ],
             [
              0.1111111111111111,
              "#46039f"
             ],
             [
              0.2222222222222222,
              "#7201a8"
             ],
             [
              0.3333333333333333,
              "#9c179e"
             ],
             [
              0.4444444444444444,
              "#bd3786"
             ],
             [
              0.5555555555555556,
              "#d8576b"
             ],
             [
              0.6666666666666666,
              "#ed7953"
             ],
             [
              0.7777777777777778,
              "#fb9f3a"
             ],
             [
              0.8888888888888888,
              "#fdca26"
             ],
             [
              1,
              "#f0f921"
             ]
            ],
            "type": "contour"
           }
          ],
          "contourcarpet": [
           {
            "colorbar": {
             "outlinewidth": 0,
             "ticks": ""
            },
            "type": "contourcarpet"
           }
          ],
          "heatmap": [
           {
            "colorbar": {
             "outlinewidth": 0,
             "ticks": ""
            },
            "colorscale": [
             [
              0,
              "#0d0887"
             ],
             [
              0.1111111111111111,
              "#46039f"
             ],
             [
              0.2222222222222222,
              "#7201a8"
             ],
             [
              0.3333333333333333,
              "#9c179e"
             ],
             [
              0.4444444444444444,
              "#bd3786"
             ],
             [
              0.5555555555555556,
              "#d8576b"
             ],
             [
              0.6666666666666666,
              "#ed7953"
             ],
             [
              0.7777777777777778,
              "#fb9f3a"
             ],
             [
              0.8888888888888888,
              "#fdca26"
             ],
             [
              1,
              "#f0f921"
             ]
            ],
            "type": "heatmap"
           }
          ],
          "heatmapgl": [
           {
            "colorbar": {
             "outlinewidth": 0,
             "ticks": ""
            },
            "colorscale": [
             [
              0,
              "#0d0887"
             ],
             [
              0.1111111111111111,
              "#46039f"
             ],
             [
              0.2222222222222222,
              "#7201a8"
             ],
             [
              0.3333333333333333,
              "#9c179e"
             ],
             [
              0.4444444444444444,
              "#bd3786"
             ],
             [
              0.5555555555555556,
              "#d8576b"
             ],
             [
              0.6666666666666666,
              "#ed7953"
             ],
             [
              0.7777777777777778,
              "#fb9f3a"
             ],
             [
              0.8888888888888888,
              "#fdca26"
             ],
             [
              1,
              "#f0f921"
             ]
            ],
            "type": "heatmapgl"
           }
          ],
          "histogram": [
           {
            "marker": {
             "colorbar": {
              "outlinewidth": 0,
              "ticks": ""
             }
            },
            "type": "histogram"
           }
          ],
          "histogram2d": [
           {
            "colorbar": {
             "outlinewidth": 0,
             "ticks": ""
            },
            "colorscale": [
             [
              0,
              "#0d0887"
             ],
             [
              0.1111111111111111,
              "#46039f"
             ],
             [
              0.2222222222222222,
              "#7201a8"
             ],
             [
              0.3333333333333333,
              "#9c179e"
             ],
             [
              0.4444444444444444,
              "#bd3786"
             ],
             [
              0.5555555555555556,
              "#d8576b"
             ],
             [
              0.6666666666666666,
              "#ed7953"
             ],
             [
              0.7777777777777778,
              "#fb9f3a"
             ],
             [
              0.8888888888888888,
              "#fdca26"
             ],
             [
              1,
              "#f0f921"
             ]
            ],
            "type": "histogram2d"
           }
          ],
          "histogram2dcontour": [
           {
            "colorbar": {
             "outlinewidth": 0,
             "ticks": ""
            },
            "colorscale": [
             [
              0,
              "#0d0887"
             ],
             [
              0.1111111111111111,
              "#46039f"
             ],
             [
              0.2222222222222222,
              "#7201a8"
             ],
             [
              0.3333333333333333,
              "#9c179e"
             ],
             [
              0.4444444444444444,
              "#bd3786"
             ],
             [
              0.5555555555555556,
              "#d8576b"
             ],
             [
              0.6666666666666666,
              "#ed7953"
             ],
             [
              0.7777777777777778,
              "#fb9f3a"
             ],
             [
              0.8888888888888888,
              "#fdca26"
             ],
             [
              1,
              "#f0f921"
             ]
            ],
            "type": "histogram2dcontour"
           }
          ],
          "mesh3d": [
           {
            "colorbar": {
             "outlinewidth": 0,
             "ticks": ""
            },
            "type": "mesh3d"
           }
          ],
          "parcoords": [
           {
            "line": {
             "colorbar": {
              "outlinewidth": 0,
              "ticks": ""
             }
            },
            "type": "parcoords"
           }
          ],
          "pie": [
           {
            "automargin": true,
            "type": "pie"
           }
          ],
          "scatter": [
           {
            "marker": {
             "colorbar": {
              "outlinewidth": 0,
              "ticks": ""
             }
            },
            "type": "scatter"
           }
          ],
          "scatter3d": [
           {
            "line": {
             "colorbar": {
              "outlinewidth": 0,
              "ticks": ""
             }
            },
            "marker": {
             "colorbar": {
              "outlinewidth": 0,
              "ticks": ""
             }
            },
            "type": "scatter3d"
           }
          ],
          "scattercarpet": [
           {
            "marker": {
             "colorbar": {
              "outlinewidth": 0,
              "ticks": ""
             }
            },
            "type": "scattercarpet"
           }
          ],
          "scattergeo": [
           {
            "marker": {
             "colorbar": {
              "outlinewidth": 0,
              "ticks": ""
             }
            },
            "type": "scattergeo"
           }
          ],
          "scattergl": [
           {
            "marker": {
             "colorbar": {
              "outlinewidth": 0,
              "ticks": ""
             }
            },
            "type": "scattergl"
           }
          ],
          "scattermapbox": [
           {
            "marker": {
             "colorbar": {
              "outlinewidth": 0,
              "ticks": ""
             }
            },
            "type": "scattermapbox"
           }
          ],
          "scatterpolar": [
           {
            "marker": {
             "colorbar": {
              "outlinewidth": 0,
              "ticks": ""
             }
            },
            "type": "scatterpolar"
           }
          ],
          "scatterpolargl": [
           {
            "marker": {
             "colorbar": {
              "outlinewidth": 0,
              "ticks": ""
             }
            },
            "type": "scatterpolargl"
           }
          ],
          "scatterternary": [
           {
            "marker": {
             "colorbar": {
              "outlinewidth": 0,
              "ticks": ""
             }
            },
            "type": "scatterternary"
           }
          ],
          "surface": [
           {
            "colorbar": {
             "outlinewidth": 0,
             "ticks": ""
            },
            "colorscale": [
             [
              0,
              "#0d0887"
             ],
             [
              0.1111111111111111,
              "#46039f"
             ],
             [
              0.2222222222222222,
              "#7201a8"
             ],
             [
              0.3333333333333333,
              "#9c179e"
             ],
             [
              0.4444444444444444,
              "#bd3786"
             ],
             [
              0.5555555555555556,
              "#d8576b"
             ],
             [
              0.6666666666666666,
              "#ed7953"
             ],
             [
              0.7777777777777778,
              "#fb9f3a"
             ],
             [
              0.8888888888888888,
              "#fdca26"
             ],
             [
              1,
              "#f0f921"
             ]
            ],
            "type": "surface"
           }
          ],
          "table": [
           {
            "cells": {
             "fill": {
              "color": "#EBF0F8"
             },
             "line": {
              "color": "white"
             }
            },
            "header": {
             "fill": {
              "color": "#C8D4E3"
             },
             "line": {
              "color": "white"
             }
            },
            "type": "table"
           }
          ]
         },
         "layout": {
          "annotationdefaults": {
           "arrowcolor": "#2a3f5f",
           "arrowhead": 0,
           "arrowwidth": 1
          },
          "autotypenumbers": "strict",
          "coloraxis": {
           "colorbar": {
            "outlinewidth": 0,
            "ticks": ""
           }
          },
          "colorscale": {
           "diverging": [
            [
             0,
             "#8e0152"
            ],
            [
             0.1,
             "#c51b7d"
            ],
            [
             0.2,
             "#de77ae"
            ],
            [
             0.3,
             "#f1b6da"
            ],
            [
             0.4,
             "#fde0ef"
            ],
            [
             0.5,
             "#f7f7f7"
            ],
            [
             0.6,
             "#e6f5d0"
            ],
            [
             0.7,
             "#b8e186"
            ],
            [
             0.8,
             "#7fbc41"
            ],
            [
             0.9,
             "#4d9221"
            ],
            [
             1,
             "#276419"
            ]
           ],
           "sequential": [
            [
             0,
             "#0d0887"
            ],
            [
             0.1111111111111111,
             "#46039f"
            ],
            [
             0.2222222222222222,
             "#7201a8"
            ],
            [
             0.3333333333333333,
             "#9c179e"
            ],
            [
             0.4444444444444444,
             "#bd3786"
            ],
            [
             0.5555555555555556,
             "#d8576b"
            ],
            [
             0.6666666666666666,
             "#ed7953"
            ],
            [
             0.7777777777777778,
             "#fb9f3a"
            ],
            [
             0.8888888888888888,
             "#fdca26"
            ],
            [
             1,
             "#f0f921"
            ]
           ],
           "sequentialminus": [
            [
             0,
             "#0d0887"
            ],
            [
             0.1111111111111111,
             "#46039f"
            ],
            [
             0.2222222222222222,
             "#7201a8"
            ],
            [
             0.3333333333333333,
             "#9c179e"
            ],
            [
             0.4444444444444444,
             "#bd3786"
            ],
            [
             0.5555555555555556,
             "#d8576b"
            ],
            [
             0.6666666666666666,
             "#ed7953"
            ],
            [
             0.7777777777777778,
             "#fb9f3a"
            ],
            [
             0.8888888888888888,
             "#fdca26"
            ],
            [
             1,
             "#f0f921"
            ]
           ]
          },
          "colorway": [
           "#636efa",
           "#EF553B",
           "#00cc96",
           "#ab63fa",
           "#FFA15A",
           "#19d3f3",
           "#FF6692",
           "#B6E880",
           "#FF97FF",
           "#FECB52"
          ],
          "font": {
           "color": "#2a3f5f"
          },
          "geo": {
           "bgcolor": "white",
           "lakecolor": "white",
           "landcolor": "#E5ECF6",
           "showlakes": true,
           "showland": true,
           "subunitcolor": "white"
          },
          "hoverlabel": {
           "align": "left"
          },
          "hovermode": "closest",
          "mapbox": {
           "style": "light"
          },
          "paper_bgcolor": "white",
          "plot_bgcolor": "#E5ECF6",
          "polar": {
           "angularaxis": {
            "gridcolor": "white",
            "linecolor": "white",
            "ticks": ""
           },
           "bgcolor": "#E5ECF6",
           "radialaxis": {
            "gridcolor": "white",
            "linecolor": "white",
            "ticks": ""
           }
          },
          "scene": {
           "xaxis": {
            "backgroundcolor": "#E5ECF6",
            "gridcolor": "white",
            "gridwidth": 2,
            "linecolor": "white",
            "showbackground": true,
            "ticks": "",
            "zerolinecolor": "white"
           },
           "yaxis": {
            "backgroundcolor": "#E5ECF6",
            "gridcolor": "white",
            "gridwidth": 2,
            "linecolor": "white",
            "showbackground": true,
            "ticks": "",
            "zerolinecolor": "white"
           },
           "zaxis": {
            "backgroundcolor": "#E5ECF6",
            "gridcolor": "white",
            "gridwidth": 2,
            "linecolor": "white",
            "showbackground": true,
            "ticks": "",
            "zerolinecolor": "white"
           }
          },
          "shapedefaults": {
           "line": {
            "color": "#2a3f5f"
           }
          },
          "ternary": {
           "aaxis": {
            "gridcolor": "white",
            "linecolor": "white",
            "ticks": ""
           },
           "baxis": {
            "gridcolor": "white",
            "linecolor": "white",
            "ticks": ""
           },
           "bgcolor": "#E5ECF6",
           "caxis": {
            "gridcolor": "white",
            "linecolor": "white",
            "ticks": ""
           }
          },
          "title": {
           "x": 0.05
          },
          "xaxis": {
           "automargin": true,
           "gridcolor": "white",
           "linecolor": "white",
           "ticks": "",
           "title": {
            "standoff": 15
           },
           "zerolinecolor": "white",
           "zerolinewidth": 2
          },
          "yaxis": {
           "automargin": true,
           "gridcolor": "white",
           "linecolor": "white",
           "ticks": "",
           "title": {
            "standoff": 15
           },
           "zerolinecolor": "white",
           "zerolinewidth": 2
          }
         }
        },
        "xaxis": {
         "anchor": "y",
         "domain": [
          0,
          1
         ]
        },
        "yaxis": {
         "anchor": "x",
         "domain": [
          0,
          1
         ]
        }
       }
      },
      "text/html": [
       "<div>                            <div id=\"73228406-beda-490d-bbb5-1fddb1b661ee\" class=\"plotly-graph-div\" style=\"height:525px; width:100%;\"></div>            <script type=\"text/javascript\">                require([\"plotly\"], function(Plotly) {                    window.PLOTLYENV=window.PLOTLYENV || {};                                    if (document.getElementById(\"73228406-beda-490d-bbb5-1fddb1b661ee\")) {                    Plotly.newPlot(                        \"73228406-beda-490d-bbb5-1fddb1b661ee\",                        [{\"hovertemplate\": \"x: %{x}<br>y: %{y}<br>color: [%{z[0]}, %{z[1]}, %{z[2]}]<extra></extra>\", \"name\": \"0\", \"source\": \"data:image/png;base64,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\", \"type\": \"image\", \"xaxis\": \"x\", \"yaxis\": \"y\"}],                        {\"margin\": {\"t\": 60}, \"template\": {\"data\": {\"bar\": [{\"error_x\": {\"color\": \"#2a3f5f\"}, \"error_y\": {\"color\": \"#2a3f5f\"}, \"marker\": {\"line\": {\"color\": \"#E5ECF6\", \"width\": 0.5}}, \"type\": \"bar\"}], \"barpolar\": [{\"marker\": {\"line\": {\"color\": \"#E5ECF6\", \"width\": 0.5}}, \"type\": \"barpolar\"}], \"carpet\": [{\"aaxis\": {\"endlinecolor\": \"#2a3f5f\", \"gridcolor\": \"white\", \"linecolor\": \"white\", \"minorgridcolor\": \"white\", \"startlinecolor\": \"#2a3f5f\"}, \"baxis\": {\"endlinecolor\": \"#2a3f5f\", \"gridcolor\": \"white\", \"linecolor\": \"white\", \"minorgridcolor\": \"white\", \"startlinecolor\": \"#2a3f5f\"}, \"type\": \"carpet\"}], \"choropleth\": [{\"colorbar\": {\"outlinewidth\": 0, \"ticks\": \"\"}, \"type\": \"choropleth\"}], \"contour\": [{\"colorbar\": {\"outlinewidth\": 0, \"ticks\": \"\"}, \"colorscale\": [[0.0, \"#0d0887\"], [0.1111111111111111, \"#46039f\"], [0.2222222222222222, \"#7201a8\"], [0.3333333333333333, \"#9c179e\"], [0.4444444444444444, \"#bd3786\"], [0.5555555555555556, \"#d8576b\"], [0.6666666666666666, \"#ed7953\"], [0.7777777777777778, \"#fb9f3a\"], [0.8888888888888888, \"#fdca26\"], [1.0, \"#f0f921\"]], \"type\": \"contour\"}], \"contourcarpet\": [{\"colorbar\": {\"outlinewidth\": 0, \"ticks\": \"\"}, \"type\": \"contourcarpet\"}], \"heatmap\": [{\"colorbar\": {\"outlinewidth\": 0, \"ticks\": \"\"}, \"colorscale\": [[0.0, \"#0d0887\"], [0.1111111111111111, \"#46039f\"], [0.2222222222222222, \"#7201a8\"], [0.3333333333333333, \"#9c179e\"], [0.4444444444444444, \"#bd3786\"], [0.5555555555555556, \"#d8576b\"], [0.6666666666666666, \"#ed7953\"], [0.7777777777777778, \"#fb9f3a\"], [0.8888888888888888, \"#fdca26\"], [1.0, \"#f0f921\"]], \"type\": \"heatmap\"}], \"heatmapgl\": [{\"colorbar\": {\"outlinewidth\": 0, \"ticks\": \"\"}, \"colorscale\": [[0.0, \"#0d0887\"], [0.1111111111111111, \"#46039f\"], [0.2222222222222222, \"#7201a8\"], [0.3333333333333333, \"#9c179e\"], [0.4444444444444444, \"#bd3786\"], [0.5555555555555556, \"#d8576b\"], [0.6666666666666666, \"#ed7953\"], [0.7777777777777778, \"#fb9f3a\"], [0.8888888888888888, \"#fdca26\"], [1.0, \"#f0f921\"]], \"type\": \"heatmapgl\"}], \"histogram\": [{\"marker\": {\"colorbar\": {\"outlinewidth\": 0, \"ticks\": \"\"}}, \"type\": \"histogram\"}], \"histogram2d\": [{\"colorbar\": {\"outlinewidth\": 0, \"ticks\": \"\"}, \"colorscale\": [[0.0, \"#0d0887\"], [0.1111111111111111, \"#46039f\"], [0.2222222222222222, \"#7201a8\"], [0.3333333333333333, \"#9c179e\"], [0.4444444444444444, \"#bd3786\"], [0.5555555555555556, \"#d8576b\"], [0.6666666666666666, \"#ed7953\"], [0.7777777777777778, \"#fb9f3a\"], [0.8888888888888888, \"#fdca26\"], [1.0, \"#f0f921\"]], \"type\": \"histogram2d\"}], \"histogram2dcontour\": [{\"colorbar\": {\"outlinewidth\": 0, \"ticks\": \"\"}, \"colorscale\": [[0.0, \"#0d0887\"], [0.1111111111111111, \"#46039f\"], [0.2222222222222222, \"#7201a8\"], [0.3333333333333333, \"#9c179e\"], [0.4444444444444444, \"#bd3786\"], [0.5555555555555556, \"#d8576b\"], [0.6666666666666666, \"#ed7953\"], [0.7777777777777778, \"#fb9f3a\"], [0.8888888888888888, \"#fdca26\"], [1.0, \"#f0f921\"]], \"type\": \"histogram2dcontour\"}], \"mesh3d\": [{\"colorbar\": {\"outlinewidth\": 0, \"ticks\": \"\"}, \"type\": \"mesh3d\"}], \"parcoords\": [{\"line\": {\"colorbar\": {\"outlinewidth\": 0, \"ticks\": \"\"}}, \"type\": \"parcoords\"}], \"pie\": [{\"automargin\": true, \"type\": \"pie\"}], \"scatter\": [{\"marker\": {\"colorbar\": {\"outlinewidth\": 0, \"ticks\": \"\"}}, \"type\": \"scatter\"}], \"scatter3d\": [{\"line\": {\"colorbar\": {\"outlinewidth\": 0, \"ticks\": \"\"}}, \"marker\": {\"colorbar\": {\"outlinewidth\": 0, \"ticks\": \"\"}}, \"type\": \"scatter3d\"}], \"scattercarpet\": [{\"marker\": {\"colorbar\": {\"outlinewidth\": 0, \"ticks\": \"\"}}, \"type\": \"scattercarpet\"}], \"scattergeo\": [{\"marker\": {\"colorbar\": {\"outlinewidth\": 0, \"ticks\": \"\"}}, \"type\": \"scattergeo\"}], \"scattergl\": [{\"marker\": {\"colorbar\": {\"outlinewidth\": 0, \"ticks\": \"\"}}, \"type\": \"scattergl\"}], \"scattermapbox\": [{\"marker\": {\"colorbar\": {\"outlinewidth\": 0, \"ticks\": \"\"}}, \"type\": \"scattermapbox\"}], \"scatterpolar\": [{\"marker\": {\"colorbar\": {\"outlinewidth\": 0, \"ticks\": \"\"}}, \"type\": \"scatterpolar\"}], \"scatterpolargl\": [{\"marker\": {\"colorbar\": {\"outlinewidth\": 0, \"ticks\": \"\"}}, \"type\": \"scatterpolargl\"}], \"scatterternary\": [{\"marker\": {\"colorbar\": {\"outlinewidth\": 0, \"ticks\": \"\"}}, \"type\": \"scatterternary\"}], \"surface\": [{\"colorbar\": {\"outlinewidth\": 0, \"ticks\": \"\"}, \"colorscale\": [[0.0, \"#0d0887\"], [0.1111111111111111, \"#46039f\"], [0.2222222222222222, \"#7201a8\"], [0.3333333333333333, \"#9c179e\"], [0.4444444444444444, \"#bd3786\"], [0.5555555555555556, \"#d8576b\"], [0.6666666666666666, \"#ed7953\"], [0.7777777777777778, \"#fb9f3a\"], [0.8888888888888888, \"#fdca26\"], [1.0, \"#f0f921\"]], \"type\": \"surface\"}], \"table\": [{\"cells\": {\"fill\": {\"color\": \"#EBF0F8\"}, \"line\": {\"color\": \"white\"}}, \"header\": {\"fill\": {\"color\": \"#C8D4E3\"}, \"line\": {\"color\": \"white\"}}, \"type\": \"table\"}]}, \"layout\": {\"annotationdefaults\": {\"arrowcolor\": \"#2a3f5f\", \"arrowhead\": 0, \"arrowwidth\": 1}, \"autotypenumbers\": \"strict\", \"coloraxis\": {\"colorbar\": {\"outlinewidth\": 0, \"ticks\": \"\"}}, \"colorscale\": {\"diverging\": [[0, \"#8e0152\"], [0.1, \"#c51b7d\"], [0.2, \"#de77ae\"], [0.3, \"#f1b6da\"], [0.4, \"#fde0ef\"], [0.5, \"#f7f7f7\"], [0.6, \"#e6f5d0\"], [0.7, \"#b8e186\"], [0.8, \"#7fbc41\"], [0.9, \"#4d9221\"], [1, \"#276419\"]], \"sequential\": [[0.0, \"#0d0887\"], [0.1111111111111111, \"#46039f\"], [0.2222222222222222, \"#7201a8\"], [0.3333333333333333, \"#9c179e\"], [0.4444444444444444, \"#bd3786\"], [0.5555555555555556, \"#d8576b\"], [0.6666666666666666, \"#ed7953\"], [0.7777777777777778, \"#fb9f3a\"], [0.8888888888888888, \"#fdca26\"], [1.0, \"#f0f921\"]], \"sequentialminus\": [[0.0, \"#0d0887\"], [0.1111111111111111, \"#46039f\"], [0.2222222222222222, \"#7201a8\"], [0.3333333333333333, \"#9c179e\"], [0.4444444444444444, \"#bd3786\"], [0.5555555555555556, \"#d8576b\"], [0.6666666666666666, \"#ed7953\"], [0.7777777777777778, \"#fb9f3a\"], [0.8888888888888888, \"#fdca26\"], [1.0, \"#f0f921\"]]}, \"colorway\": [\"#636efa\", \"#EF553B\", \"#00cc96\", \"#ab63fa\", \"#FFA15A\", \"#19d3f3\", \"#FF6692\", \"#B6E880\", \"#FF97FF\", \"#FECB52\"], \"font\": {\"color\": \"#2a3f5f\"}, \"geo\": {\"bgcolor\": \"white\", \"lakecolor\": \"white\", \"landcolor\": \"#E5ECF6\", \"showlakes\": true, \"showland\": true, \"subunitcolor\": \"white\"}, \"hoverlabel\": {\"align\": \"left\"}, \"hovermode\": \"closest\", \"mapbox\": {\"style\": \"light\"}, \"paper_bgcolor\": \"white\", \"plot_bgcolor\": \"#E5ECF6\", \"polar\": {\"angularaxis\": {\"gridcolor\": \"white\", \"linecolor\": \"white\", \"ticks\": \"\"}, \"bgcolor\": \"#E5ECF6\", \"radialaxis\": {\"gridcolor\": \"white\", \"linecolor\": \"white\", \"ticks\": \"\"}}, \"scene\": {\"xaxis\": {\"backgroundcolor\": \"#E5ECF6\", \"gridcolor\": \"white\", \"gridwidth\": 2, \"linecolor\": \"white\", \"showbackground\": true, \"ticks\": \"\", \"zerolinecolor\": \"white\"}, \"yaxis\": {\"backgroundcolor\": \"#E5ECF6\", \"gridcolor\": \"white\", \"gridwidth\": 2, \"linecolor\": \"white\", \"showbackground\": true, \"ticks\": \"\", \"zerolinecolor\": \"white\"}, \"zaxis\": {\"backgroundcolor\": \"#E5ECF6\", \"gridcolor\": \"white\", \"gridwidth\": 2, \"linecolor\": \"white\", \"showbackground\": true, \"ticks\": \"\", \"zerolinecolor\": \"white\"}}, \"shapedefaults\": {\"line\": {\"color\": \"#2a3f5f\"}}, \"ternary\": {\"aaxis\": {\"gridcolor\": \"white\", \"linecolor\": \"white\", \"ticks\": \"\"}, \"baxis\": {\"gridcolor\": \"white\", \"linecolor\": \"white\", \"ticks\": \"\"}, \"bgcolor\": \"#E5ECF6\", \"caxis\": {\"gridcolor\": \"white\", \"linecolor\": \"white\", \"ticks\": \"\"}}, \"title\": {\"x\": 0.05}, \"xaxis\": {\"automargin\": true, \"gridcolor\": \"white\", \"linecolor\": \"white\", \"ticks\": \"\", \"title\": {\"standoff\": 15}, \"zerolinecolor\": \"white\", \"zerolinewidth\": 2}, \"yaxis\": {\"automargin\": true, \"gridcolor\": \"white\", \"linecolor\": \"white\", \"ticks\": \"\", \"title\": {\"standoff\": 15}, \"zerolinecolor\": \"white\", \"zerolinewidth\": 2}}}, \"xaxis\": {\"anchor\": \"y\", \"domain\": [0.0, 1.0]}, \"yaxis\": {\"anchor\": \"x\", \"domain\": [0.0, 1.0]}},                        {\"responsive\": true}                    ).then(function(){\n",
       "                            \n",
       "var gd = document.getElementById('73228406-beda-490d-bbb5-1fddb1b661ee');\n",
       "var x = new MutationObserver(function (mutations, observer) {{\n",
       "        var display = window.getComputedStyle(gd).display;\n",
       "        if (!display || display === 'none') {{\n",
       "            console.log([gd, 'removed!']);\n",
       "            Plotly.purge(gd);\n",
       "            observer.disconnect();\n",
       "        }}\n",
       "}});\n",
       "\n",
       "// Listen for the removal of the full notebook cells\n",
       "var notebookContainer = gd.closest('#notebook-container');\n",
       "if (notebookContainer) {{\n",
       "    x.observe(notebookContainer, {childList: true});\n",
       "}}\n",
       "\n",
       "// Listen for the clearing of the current output cell\n",
       "var outputEl = gd.closest('.output');\n",
       "if (outputEl) {{\n",
       "    x.observe(outputEl, {childList: true});\n",
       "}}\n",
       "\n",
       "                        })                };                });            </script>        </div>"
      ]
     },
     "metadata": {},
     "output_type": "display_data"
    }
   ],
   "source": [
    "image1 = image_Genereted(1)\n",
    "image1.shape\n",
    "for x in image1 : \n",
    "    #px.axis(\"off\")\n",
    "    fig = px.imshow((x*255).astype(np.uint8))\n",
    "    fig.show()"
   ]
  },
  {
   "cell_type": "code",
   "execution_count": 49,
   "id": "amateur-bundle",
   "metadata": {},
   "outputs": [
    {
     "name": "stderr",
     "output_type": "stream",
     "text": [
      "Clipping input data to the valid range for imshow with RGB data ([0..1] for floats or [0..255] for integers).\n"
     ]
    },
    {
     "data": {
      "text/plain": [
       "<matplotlib.image.AxesImage at 0x7fc6e85468e0>"
      ]
     },
     "execution_count": 49,
     "metadata": {},
     "output_type": "execute_result"
    },
    {
     "data": {
      "image/png": "[encoded data removed]",
      "text/plain": [
       "<Figure size 432x288 with 1 Axes>"
      ]
     },
     "metadata": {
      "needs_background": "light"
     },
     "output_type": "display_data"
    }
   ],
   "source": [
    "plt.axis(\"off\")\n",
    "plt.imshow((image1 * 255).astype(\"int32\")[0])\n",
    "    "
   ]
  },
  {
   "cell_type": "code",
   "execution_count": 64,
   "id": "apparent-trademark",
   "metadata": {},
   "outputs": [
    {
     "data": {
      "application/vnd.plotly.v1+json": {
       "config": {
        "plotlyServerURL": "https://plot.ly"
       },
       "data": [
        {
         "hovertemplate": "x: %{x}<br>y: %{y}<br>color: [%{z[0]}, %{z[1]}, %{z[2]}]<extra></extra>",
         "name": "0",
         "source": "data:image/png;base64,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",
         "type": "image",
         "xaxis": "x",
         "yaxis": "y"
        }
       ],
       "layout": {
        "margin": {
         "t": 60
        },
        "template": {
         "data": {
          "bar": [
           {
            "error_x": {
             "color": "#2a3f5f"
            },
            "error_y": {
             "color": "#2a3f5f"
            },
            "marker": {
             "line": {
              "color": "#E5ECF6",
              "width": 0.5
             }
            },
            "type": "bar"
           }
          ],
          "barpolar": [
           {
            "marker": {
             "line": {
              "color": "#E5ECF6",
              "width": 0.5
             }
            },
            "type": "barpolar"
           }
          ],
          "carpet": [
           {
            "aaxis": {
             "endlinecolor": "#2a3f5f",
             "gridcolor": "white",
             "linecolor": "white",
             "minorgridcolor": "white",
             "startlinecolor": "#2a3f5f"
            },
            "baxis": {
             "endlinecolor": "#2a3f5f",
             "gridcolor": "white",
             "linecolor": "white",
             "minorgridcolor": "white",
             "startlinecolor": "#2a3f5f"
            },
            "type": "carpet"
           }
          ],
          "choropleth": [
           {
            "colorbar": {
             "outlinewidth": 0,
             "ticks": ""
            },
            "type": "choropleth"
           }
          ],
          "contour": [
           {
            "colorbar": {
             "outlinewidth": 0,
             "ticks": ""
            },
            "colorscale": [
             [
              0,
              "#0d0887"
             ],
             [
              0.1111111111111111,
              "#46039f"
             ],
             [
              0.2222222222222222,
              "#7201a8"
             ],
             [
              0.3333333333333333,
              "#9c179e"
             ],
             [
              0.4444444444444444,
              "#bd3786"
             ],
             [
              0.5555555555555556,
              "#d8576b"
             ],
             [
              0.6666666666666666,
              "#ed7953"
             ],
             [
              0.7777777777777778,
              "#fb9f3a"
             ],
             [
              0.8888888888888888,
              "#fdca26"
             ],
             [
              1,
              "#f0f921"
             ]
            ],
            "type": "contour"
           }
          ],
          "contourcarpet": [
           {
            "colorbar": {
             "outlinewidth": 0,
             "ticks": ""
            },
            "type": "contourcarpet"
           }
          ],
          "heatmap": [
           {
            "colorbar": {
             "outlinewidth": 0,
             "ticks": ""
            },
            "colorscale": [
             [
              0,
              "#0d0887"
             ],
             [
              0.1111111111111111,
              "#46039f"
             ],
             [
              0.2222222222222222,
              "#7201a8"
             ],
             [
              0.3333333333333333,
              "#9c179e"
             ],
             [
              0.4444444444444444,
              "#bd3786"
             ],
             [
              0.5555555555555556,
              "#d8576b"
             ],
             [
              0.6666666666666666,
              "#ed7953"
             ],
             [
              0.7777777777777778,
              "#fb9f3a"
             ],
             [
              0.8888888888888888,
              "#fdca26"
             ],
             [
              1,
              "#f0f921"
             ]
            ],
            "type": "heatmap"
           }
          ],
          "heatmapgl": [
           {
            "colorbar": {
             "outlinewidth": 0,
             "ticks": ""
            },
            "colorscale": [
             [
              0,
              "#0d0887"
             ],
             [
              0.1111111111111111,
              "#46039f"
             ],
             [
              0.2222222222222222,
              "#7201a8"
             ],
             [
              0.3333333333333333,
              "#9c179e"
             ],
             [
              0.4444444444444444,
              "#bd3786"
             ],
             [
              0.5555555555555556,
              "#d8576b"
             ],
             [
              0.6666666666666666,
              "#ed7953"
             ],
             [
              0.7777777777777778,
              "#fb9f3a"
             ],
             [
              0.8888888888888888,
              "#fdca26"
             ],
             [
              1,
              "#f0f921"
             ]
            ],
            "type": "heatmapgl"
           }
          ],
          "histogram": [
           {
            "marker": {
             "colorbar": {
              "outlinewidth": 0,
              "ticks": ""
             }
            },
            "type": "histogram"
           }
          ],
          "histogram2d": [
           {
            "colorbar": {
             "outlinewidth": 0,
             "ticks": ""
            },
            "colorscale": [
             [
              0,
              "#0d0887"
             ],
             [
              0.1111111111111111,
              "#46039f"
             ],
             [
              0.2222222222222222,
              "#7201a8"
             ],
             [
              0.3333333333333333,
              "#9c179e"
             ],
             [
              0.4444444444444444,
              "#bd3786"
             ],
             [
              0.5555555555555556,
              "#d8576b"
             ],
             [
              0.6666666666666666,
              "#ed7953"
             ],
             [
              0.7777777777777778,
              "#fb9f3a"
             ],
             [
              0.8888888888888888,
              "#fdca26"
             ],
             [
              1,
              "#f0f921"
             ]
            ],
            "type": "histogram2d"
           }
          ],
          "histogram2dcontour": [
           {
            "colorbar": {
             "outlinewidth": 0,
             "ticks": ""
            },
            "colorscale": [
             [
              0,
              "#0d0887"
             ],
             [
              0.1111111111111111,
              "#46039f"
             ],
             [
              0.2222222222222222,
              "#7201a8"
             ],
             [
              0.3333333333333333,
              "#9c179e"
             ],
             [
              0.4444444444444444,
              "#bd3786"
             ],
             [
              0.5555555555555556,
              "#d8576b"
             ],
             [
              0.6666666666666666,
              "#ed7953"
             ],
             [
              0.7777777777777778,
              "#fb9f3a"
             ],
             [
              0.8888888888888888,
              "#fdca26"
             ],
             [
              1,
              "#f0f921"
             ]
            ],
            "type": "histogram2dcontour"
           }
          ],
          "mesh3d": [
           {
            "colorbar": {
             "outlinewidth": 0,
             "ticks": ""
            },
            "type": "mesh3d"
           }
          ],
          "parcoords": [
           {
            "line": {
             "colorbar": {
              "outlinewidth": 0,
              "ticks": ""
             }
            },
            "type": "parcoords"
           }
          ],
          "pie": [
           {
            "automargin": true,
            "type": "pie"
           }
          ],
          "scatter": [
           {
            "marker": {
             "colorbar": {
              "outlinewidth": 0,
              "ticks": ""
             }
            },
            "type": "scatter"
           }
          ],
          "scatter3d": [
           {
            "line": {
             "colorbar": {
              "outlinewidth": 0,
              "ticks": ""
             }
            },
            "marker": {
             "colorbar": {
              "outlinewidth": 0,
              "ticks": ""
             }
            },
            "type": "scatter3d"
           }
          ],
          "scattercarpet": [
           {
            "marker": {
             "colorbar": {
              "outlinewidth": 0,
              "ticks": ""
             }
            },
            "type": "scattercarpet"
           }
          ],
          "scattergeo": [
           {
            "marker": {
             "colorbar": {
              "outlinewidth": 0,
              "ticks": ""
             }
            },
            "type": "scattergeo"
           }
          ],
          "scattergl": [
           {
            "marker": {
             "colorbar": {
              "outlinewidth": 0,
              "ticks": ""
             }
            },
            "type": "scattergl"
           }
          ],
          "scattermapbox": [
           {
            "marker": {
             "colorbar": {
              "outlinewidth": 0,
              "ticks": ""
             }
            },
            "type": "scattermapbox"
           }
          ],
          "scatterpolar": [
           {
            "marker": {
             "colorbar": {
              "outlinewidth": 0,
              "ticks": ""
             }
            },
            "type": "scatterpolar"
           }
          ],
          "scatterpolargl": [
           {
            "marker": {
             "colorbar": {
              "outlinewidth": 0,
              "ticks": ""
             }
            },
            "type": "scatterpolargl"
           }
          ],
          "scatterternary": [
           {
            "marker": {
             "colorbar": {
              "outlinewidth": 0,
              "ticks": ""
             }
            },
            "type": "scatterternary"
           }
          ],
          "surface": [
           {
            "colorbar": {
             "outlinewidth": 0,
             "ticks": ""
            },
            "colorscale": [
             [
              0,
              "#0d0887"
             ],
             [
              0.1111111111111111,
              "#46039f"
             ],
             [
              0.2222222222222222,
              "#7201a8"
             ],
             [
              0.3333333333333333,
              "#9c179e"
             ],
             [
              0.4444444444444444,
              "#bd3786"
             ],
             [
              0.5555555555555556,
              "#d8576b"
             ],
             [
              0.6666666666666666,
              "#ed7953"
             ],
             [
              0.7777777777777778,
              "#fb9f3a"
             ],
             [
              0.8888888888888888,
              "#fdca26"
             ],
             [
              1,
              "#f0f921"
             ]
            ],
            "type": "surface"
           }
          ],
          "table": [
           {
            "cells": {
             "fill": {
              "color": "#EBF0F8"
             },
             "line": {
              "color": "white"
             }
            },
            "header": {
             "fill": {
              "color": "#C8D4E3"
             },
             "line": {
              "color": "white"
             }
            },
            "type": "table"
           }
          ]
         },
         "layout": {
          "annotationdefaults": {
           "arrowcolor": "#2a3f5f",
           "arrowhead": 0,
           "arrowwidth": 1
          },
          "autotypenumbers": "strict",
          "coloraxis": {
           "colorbar": {
            "outlinewidth": 0,
            "ticks": ""
           }
          },
          "colorscale": {
           "diverging": [
            [
             0,
             "#8e0152"
            ],
            [
             0.1,
             "#c51b7d"
            ],
            [
             0.2,
             "#de77ae"
            ],
            [
             0.3,
             "#f1b6da"
            ],
            [
             0.4,
             "#fde0ef"
            ],
            [
             0.5,
             "#f7f7f7"
            ],
            [
             0.6,
             "#e6f5d0"
            ],
            [
             0.7,
             "#b8e186"
            ],
            [
             0.8,
             "#7fbc41"
            ],
            [
             0.9,
             "#4d9221"
            ],
            [
             1,
             "#276419"
            ]
           ],
           "sequential": [
            [
             0,
             "#0d0887"
            ],
            [
             0.1111111111111111,
             "#46039f"
            ],
            [
             0.2222222222222222,
             "#7201a8"
            ],
            [
             0.3333333333333333,
             "#9c179e"
            ],
            [
             0.4444444444444444,
             "#bd3786"
            ],
            [
             0.5555555555555556,
             "#d8576b"
            ],
            [
             0.6666666666666666,
             "#ed7953"
            ],
            [
             0.7777777777777778,
             "#fb9f3a"
            ],
            [
             0.8888888888888888,
             "#fdca26"
            ],
            [
             1,
             "#f0f921"
            ]
           ],
           "sequentialminus": [
            [
             0,
             "#0d0887"
            ],
            [
             0.1111111111111111,
             "#46039f"
            ],
            [
             0.2222222222222222,
             "#7201a8"
            ],
            [
             0.3333333333333333,
             "#9c179e"
            ],
            [
             0.4444444444444444,
             "#bd3786"
            ],
            [
             0.5555555555555556,
             "#d8576b"
            ],
            [
             0.6666666666666666,
             "#ed7953"
            ],
            [
             0.7777777777777778,
             "#fb9f3a"
            ],
            [
             0.8888888888888888,
             "#fdca26"
            ],
            [
             1,
             "#f0f921"
            ]
           ]
          },
          "colorway": [
           "#636efa",
           "#EF553B",
           "#00cc96",
           "#ab63fa",
           "#FFA15A",
           "#19d3f3",
           "#FF6692",
           "#B6E880",
           "#FF97FF",
           "#FECB52"
          ],
          "font": {
           "color": "#2a3f5f"
          },
          "geo": {
           "bgcolor": "white",
           "lakecolor": "white",
           "landcolor": "#E5ECF6",
           "showlakes": true,
           "showland": true,
           "subunitcolor": "white"
          },
          "hoverlabel": {
           "align": "left"
          },
          "hovermode": "closest",
          "mapbox": {
           "style": "light"
          },
          "paper_bgcolor": "white",
          "plot_bgcolor": "#E5ECF6",
          "polar": {
           "angularaxis": {
            "gridcolor": "white",
            "linecolor": "white",
            "ticks": ""
           },
           "bgcolor": "#E5ECF6",
           "radialaxis": {
            "gridcolor": "white",
            "linecolor": "white",
            "ticks": ""
           }
          },
          "scene": {
           "xaxis": {
            "backgroundcolor": "#E5ECF6",
            "gridcolor": "white",
            "gridwidth": 2,
            "linecolor": "white",
            "showbackground": true,
            "ticks": "",
            "zerolinecolor": "white"
           },
           "yaxis": {
            "backgroundcolor": "#E5ECF6",
            "gridcolor": "white",
            "gridwidth": 2,
            "linecolor": "white",
            "showbackground": true,
            "ticks": "",
            "zerolinecolor": "white"
           },
           "zaxis": {
            "backgroundcolor": "#E5ECF6",
            "gridcolor": "white",
            "gridwidth": 2,
            "linecolor": "white",
            "showbackground": true,
            "ticks": "",
            "zerolinecolor": "white"
           }
          },
          "shapedefaults": {
           "line": {
            "color": "#2a3f5f"
           }
          },
          "ternary": {
           "aaxis": {
            "gridcolor": "white",
            "linecolor": "white",
            "ticks": ""
           },
           "baxis": {
            "gridcolor": "white",
            "linecolor": "white",
            "ticks": ""
           },
           "bgcolor": "#E5ECF6",
           "caxis": {
            "gridcolor": "white",
            "linecolor": "white",
            "ticks": ""
           }
          },
          "title": {
           "x": 0.05
          },
          "xaxis": {
           "automargin": true,
           "gridcolor": "white",
           "linecolor": "white",
           "ticks": "",
           "title": {
            "standoff": 15
           },
           "zerolinecolor": "white",
           "zerolinewidth": 2
          },
          "yaxis": {
           "automargin": true,
           "gridcolor": "white",
           "linecolor": "white",
           "ticks": "",
           "title": {
            "standoff": 15
           },
           "zerolinecolor": "white",
           "zerolinewidth": 2
          }
         }
        },
        "xaxis": {
         "anchor": "y",
         "domain": [
          0,
          1
         ]
        },
        "yaxis": {
         "anchor": "x",
         "domain": [
          0,
          1
         ]
        }
       }
      },
      "text/html": [
       "<div>                            <div id=\"21fea7fb-78aa-4d4b-87ec-8185ea9ab8ef\" class=\"plotly-graph-div\" style=\"height:525px; width:100%;\"></div>            <script type=\"text/javascript\">                require([\"plotly\"], function(Plotly) {                    window.PLOTLYENV=window.PLOTLYENV || {};                                    if (document.getElementById(\"21fea7fb-78aa-4d4b-87ec-8185ea9ab8ef\")) {                    Plotly.newPlot(                        \"21fea7fb-78aa-4d4b-87ec-8185ea9ab8ef\",                        [{\"hovertemplate\": \"x: %{x}<br>y: %{y}<br>color: [%{z[0]}, %{z[1]}, %{z[2]}]<extra></extra>\", \"name\": \"0\", \"source\": \"data:image/png;base64,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\", \"type\": \"image\", \"xaxis\": \"x\", \"yaxis\": \"y\"}],                        {\"margin\": {\"t\": 60}, \"template\": {\"data\": {\"bar\": [{\"error_x\": {\"color\": \"#2a3f5f\"}, \"error_y\": {\"color\": \"#2a3f5f\"}, \"marker\": {\"line\": {\"color\": \"#E5ECF6\", \"width\": 0.5}}, \"type\": \"bar\"}], \"barpolar\": [{\"marker\": {\"line\": {\"color\": \"#E5ECF6\", \"width\": 0.5}}, \"type\": \"barpolar\"}], \"carpet\": [{\"aaxis\": {\"endlinecolor\": \"#2a3f5f\", \"gridcolor\": \"white\", \"linecolor\": \"white\", \"minorgridcolor\": \"white\", \"startlinecolor\": \"#2a3f5f\"}, \"baxis\": {\"endlinecolor\": \"#2a3f5f\", \"gridcolor\": \"white\", \"linecolor\": \"white\", \"minorgridcolor\": \"white\", \"startlinecolor\": \"#2a3f5f\"}, \"type\": \"carpet\"}], \"choropleth\": [{\"colorbar\": {\"outlinewidth\": 0, \"ticks\": \"\"}, \"type\": \"choropleth\"}], \"contour\": [{\"colorbar\": {\"outlinewidth\": 0, \"ticks\": \"\"}, \"colorscale\": [[0.0, \"#0d0887\"], [0.1111111111111111, \"#46039f\"], [0.2222222222222222, \"#7201a8\"], [0.3333333333333333, \"#9c179e\"], [0.4444444444444444, \"#bd3786\"], [0.5555555555555556, \"#d8576b\"], [0.6666666666666666, \"#ed7953\"], [0.7777777777777778, \"#fb9f3a\"], [0.8888888888888888, \"#fdca26\"], [1.0, \"#f0f921\"]], \"type\": \"contour\"}], \"contourcarpet\": [{\"colorbar\": {\"outlinewidth\": 0, \"ticks\": \"\"}, \"type\": \"contourcarpet\"}], \"heatmap\": [{\"colorbar\": {\"outlinewidth\": 0, \"ticks\": \"\"}, \"colorscale\": [[0.0, \"#0d0887\"], [0.1111111111111111, \"#46039f\"], [0.2222222222222222, \"#7201a8\"], [0.3333333333333333, \"#9c179e\"], [0.4444444444444444, \"#bd3786\"], [0.5555555555555556, \"#d8576b\"], [0.6666666666666666, \"#ed7953\"], [0.7777777777777778, \"#fb9f3a\"], [0.8888888888888888, \"#fdca26\"], [1.0, \"#f0f921\"]], \"type\": \"heatmap\"}], \"heatmapgl\": [{\"colorbar\": {\"outlinewidth\": 0, \"ticks\": \"\"}, \"colorscale\": [[0.0, \"#0d0887\"], [0.1111111111111111, \"#46039f\"], [0.2222222222222222, \"#7201a8\"], [0.3333333333333333, \"#9c179e\"], [0.4444444444444444, \"#bd3786\"], [0.5555555555555556, \"#d8576b\"], [0.6666666666666666, \"#ed7953\"], [0.7777777777777778, \"#fb9f3a\"], [0.8888888888888888, \"#fdca26\"], [1.0, \"#f0f921\"]], \"type\": \"heatmapgl\"}], \"histogram\": [{\"marker\": {\"colorbar\": {\"outlinewidth\": 0, \"ticks\": \"\"}}, \"type\": \"histogram\"}], \"histogram2d\": [{\"colorbar\": {\"outlinewidth\": 0, \"ticks\": \"\"}, \"colorscale\": [[0.0, \"#0d0887\"], [0.1111111111111111, \"#46039f\"], [0.2222222222222222, \"#7201a8\"], [0.3333333333333333, \"#9c179e\"], [0.4444444444444444, \"#bd3786\"], [0.5555555555555556, \"#d8576b\"], [0.6666666666666666, \"#ed7953\"], [0.7777777777777778, \"#fb9f3a\"], [0.8888888888888888, \"#fdca26\"], [1.0, \"#f0f921\"]], \"type\": \"histogram2d\"}], \"histogram2dcontour\": [{\"colorbar\": {\"outlinewidth\": 0, \"ticks\": \"\"}, \"colorscale\": [[0.0, \"#0d0887\"], [0.1111111111111111, \"#46039f\"], [0.2222222222222222, \"#7201a8\"], [0.3333333333333333, \"#9c179e\"], [0.4444444444444444, \"#bd3786\"], [0.5555555555555556, \"#d8576b\"], [0.6666666666666666, \"#ed7953\"], [0.7777777777777778, \"#fb9f3a\"], [0.8888888888888888, \"#fdca26\"], [1.0, \"#f0f921\"]], \"type\": \"histogram2dcontour\"}], \"mesh3d\": [{\"colorbar\": {\"outlinewidth\": 0, \"ticks\": \"\"}, \"type\": \"mesh3d\"}], \"parcoords\": [{\"line\": {\"colorbar\": {\"outlinewidth\": 0, \"ticks\": \"\"}}, \"type\": \"parcoords\"}], \"pie\": [{\"automargin\": true, \"type\": \"pie\"}], \"scatter\": [{\"marker\": {\"colorbar\": {\"outlinewidth\": 0, \"ticks\": \"\"}}, \"type\": \"scatter\"}], \"scatter3d\": [{\"line\": {\"colorbar\": {\"outlinewidth\": 0, \"ticks\": \"\"}}, \"marker\": {\"colorbar\": {\"outlinewidth\": 0, \"ticks\": \"\"}}, \"type\": \"scatter3d\"}], \"scattercarpet\": [{\"marker\": {\"colorbar\": {\"outlinewidth\": 0, \"ticks\": \"\"}}, \"type\": \"scattercarpet\"}], \"scattergeo\": [{\"marker\": {\"colorbar\": {\"outlinewidth\": 0, \"ticks\": \"\"}}, \"type\": \"scattergeo\"}], \"scattergl\": [{\"marker\": {\"colorbar\": {\"outlinewidth\": 0, \"ticks\": \"\"}}, \"type\": \"scattergl\"}], \"scattermapbox\": [{\"marker\": {\"colorbar\": {\"outlinewidth\": 0, \"ticks\": \"\"}}, \"type\": \"scattermapbox\"}], \"scatterpolar\": [{\"marker\": {\"colorbar\": {\"outlinewidth\": 0, \"ticks\": \"\"}}, \"type\": \"scatterpolar\"}], \"scatterpolargl\": [{\"marker\": {\"colorbar\": {\"outlinewidth\": 0, \"ticks\": \"\"}}, \"type\": \"scatterpolargl\"}], \"scatterternary\": [{\"marker\": {\"colorbar\": {\"outlinewidth\": 0, \"ticks\": \"\"}}, \"type\": \"scatterternary\"}], \"surface\": [{\"colorbar\": {\"outlinewidth\": 0, \"ticks\": \"\"}, \"colorscale\": [[0.0, \"#0d0887\"], [0.1111111111111111, \"#46039f\"], [0.2222222222222222, \"#7201a8\"], [0.3333333333333333, \"#9c179e\"], [0.4444444444444444, \"#bd3786\"], [0.5555555555555556, \"#d8576b\"], [0.6666666666666666, \"#ed7953\"], [0.7777777777777778, \"#fb9f3a\"], [0.8888888888888888, \"#fdca26\"], [1.0, \"#f0f921\"]], \"type\": \"surface\"}], \"table\": [{\"cells\": {\"fill\": {\"color\": \"#EBF0F8\"}, \"line\": {\"color\": \"white\"}}, \"header\": {\"fill\": {\"color\": \"#C8D4E3\"}, \"line\": {\"color\": \"white\"}}, \"type\": \"table\"}]}, \"layout\": {\"annotationdefaults\": {\"arrowcolor\": \"#2a3f5f\", \"arrowhead\": 0, \"arrowwidth\": 1}, \"autotypenumbers\": \"strict\", \"coloraxis\": {\"colorbar\": {\"outlinewidth\": 0, \"ticks\": \"\"}}, \"colorscale\": {\"diverging\": [[0, \"#8e0152\"], [0.1, \"#c51b7d\"], [0.2, \"#de77ae\"], [0.3, \"#f1b6da\"], [0.4, \"#fde0ef\"], [0.5, \"#f7f7f7\"], [0.6, \"#e6f5d0\"], [0.7, \"#b8e186\"], [0.8, \"#7fbc41\"], [0.9, \"#4d9221\"], [1, \"#276419\"]], \"sequential\": [[0.0, \"#0d0887\"], [0.1111111111111111, \"#46039f\"], [0.2222222222222222, \"#7201a8\"], [0.3333333333333333, \"#9c179e\"], [0.4444444444444444, \"#bd3786\"], [0.5555555555555556, \"#d8576b\"], [0.6666666666666666, \"#ed7953\"], [0.7777777777777778, \"#fb9f3a\"], [0.8888888888888888, \"#fdca26\"], [1.0, \"#f0f921\"]], \"sequentialminus\": [[0.0, \"#0d0887\"], [0.1111111111111111, \"#46039f\"], [0.2222222222222222, \"#7201a8\"], [0.3333333333333333, \"#9c179e\"], [0.4444444444444444, \"#bd3786\"], [0.5555555555555556, \"#d8576b\"], [0.6666666666666666, \"#ed7953\"], [0.7777777777777778, \"#fb9f3a\"], [0.8888888888888888, \"#fdca26\"], [1.0, \"#f0f921\"]]}, \"colorway\": [\"#636efa\", \"#EF553B\", \"#00cc96\", \"#ab63fa\", \"#FFA15A\", \"#19d3f3\", \"#FF6692\", \"#B6E880\", \"#FF97FF\", \"#FECB52\"], \"font\": {\"color\": \"#2a3f5f\"}, \"geo\": {\"bgcolor\": \"white\", \"lakecolor\": \"white\", \"landcolor\": \"#E5ECF6\", \"showlakes\": true, \"showland\": true, \"subunitcolor\": \"white\"}, \"hoverlabel\": {\"align\": \"left\"}, \"hovermode\": \"closest\", \"mapbox\": {\"style\": \"light\"}, \"paper_bgcolor\": \"white\", \"plot_bgcolor\": \"#E5ECF6\", \"polar\": {\"angularaxis\": {\"gridcolor\": \"white\", \"linecolor\": \"white\", \"ticks\": \"\"}, \"bgcolor\": \"#E5ECF6\", \"radialaxis\": {\"gridcolor\": \"white\", \"linecolor\": \"white\", \"ticks\": \"\"}}, \"scene\": {\"xaxis\": {\"backgroundcolor\": \"#E5ECF6\", \"gridcolor\": \"white\", \"gridwidth\": 2, \"linecolor\": \"white\", \"showbackground\": true, \"ticks\": \"\", \"zerolinecolor\": \"white\"}, \"yaxis\": {\"backgroundcolor\": \"#E5ECF6\", \"gridcolor\": \"white\", \"gridwidth\": 2, \"linecolor\": \"white\", \"showbackground\": true, \"ticks\": \"\", \"zerolinecolor\": \"white\"}, \"zaxis\": {\"backgroundcolor\": \"#E5ECF6\", \"gridcolor\": \"white\", \"gridwidth\": 2, \"linecolor\": \"white\", \"showbackground\": true, \"ticks\": \"\", \"zerolinecolor\": \"white\"}}, \"shapedefaults\": {\"line\": {\"color\": \"#2a3f5f\"}}, \"ternary\": {\"aaxis\": {\"gridcolor\": \"white\", \"linecolor\": \"white\", \"ticks\": \"\"}, \"baxis\": {\"gridcolor\": \"white\", \"linecolor\": \"white\", \"ticks\": \"\"}, \"bgcolor\": \"#E5ECF6\", \"caxis\": {\"gridcolor\": \"white\", \"linecolor\": \"white\", \"ticks\": \"\"}}, \"title\": {\"x\": 0.05}, \"xaxis\": {\"automargin\": true, \"gridcolor\": \"white\", \"linecolor\": \"white\", \"ticks\": \"\", \"title\": {\"standoff\": 15}, \"zerolinecolor\": \"white\", \"zerolinewidth\": 2}, \"yaxis\": {\"automargin\": true, \"gridcolor\": \"white\", \"linecolor\": \"white\", \"ticks\": \"\", \"title\": {\"standoff\": 15}, \"zerolinecolor\": \"white\", \"zerolinewidth\": 2}}}, \"xaxis\": {\"anchor\": \"y\", \"domain\": [0.0, 1.0]}, \"yaxis\": {\"anchor\": \"x\", \"domain\": [0.0, 1.0]}},                        {\"responsive\": true}                    ).then(function(){\n",
       "                            \n",
       "var gd = document.getElementById('21fea7fb-78aa-4d4b-87ec-8185ea9ab8ef');\n",
       "var x = new MutationObserver(function (mutations, observer) {{\n",
       "        var display = window.getComputedStyle(gd).display;\n",
       "        if (!display || display === 'none') {{\n",
       "            console.log([gd, 'removed!']);\n",
       "            Plotly.purge(gd);\n",
       "            observer.disconnect();\n",
       "        }}\n",
       "}});\n",
       "\n",
       "// Listen for the removal of the full notebook cells\n",
       "var notebookContainer = gd.closest('#notebook-container');\n",
       "if (notebookContainer) {{\n",
       "    x.observe(notebookContainer, {childList: true});\n",
       "}}\n",
       "\n",
       "// Listen for the clearing of the current output cell\n",
       "var outputEl = gd.closest('.output');\n",
       "if (outputEl) {{\n",
       "    x.observe(outputEl, {childList: true});\n",
       "}}\n",
       "\n",
       "                        })                };                });            </script>        </div>"
      ]
     },
     "metadata": {},
     "output_type": "display_data"
    }
   ],
   "source": [
    "import plotly.express as px\n",
    "import numpy as np\n",
    "\n",
    "\n",
    "fig = px.imshow((x*255).astype(np.uint8))\n",
    "fig.show()"
   ]
  },
  {
   "cell_type": "code",
   "execution_count": null,
   "id": "renewable-interaction",
   "metadata": {},
   "outputs": [],
   "source": []
  }
 ],
 "metadata": {
  "kernelspec": {
   "display_name": "Python 3",
   "language": "python",
   "name": "python3"
  },
  "language_info": {
   "codemirror_mode": {
    "name": "ipython",
    "version": 3
   },
   "file_extension": ".py",
   "mimetype": "text/x-python",
   "name": "python",
   "nbconvert_exporter": "python",
   "pygments_lexer": "ipython3",
   "version": "3.8.8"
  }
 },
 "nbformat": 4,
 "nbformat_minor": 5
}
